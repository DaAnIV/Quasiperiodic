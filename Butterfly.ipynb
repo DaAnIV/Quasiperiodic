{
 "cells": [
  {
   "cell_type": "code",
   "execution_count": 1,
   "metadata": {
    "pycharm": {
     "is_executing": true
    }
   },
   "outputs": [],
   "source": [
    "import matplotlib\n",
    "import matplotlib.pyplot as plt\n",
    "import numpy as np\n",
    "import numpy.linalg\n",
    "from numpy import polynomial\n",
    "from numpy.polynomial import Polynomial\n",
    "import pandas as pd\n",
    "import scipy\n",
    "import scipy.linalg\n",
    "import scipy.optimize\n",
    "import scipy.special\n",
    "from sympy.ntheory import continued_fraction\n",
    "import fractions\n",
    "import tqdm.notebook\n",
    "import sortednp\n",
    "import ipywidgets as widgets\n",
    "from IPython import display\n",
    "%matplotlib inline\n",
    "\n",
    "should_run_long_running_cells = True"
   ]
  },
  {
   "cell_type": "code",
   "execution_count": 2,
   "metadata": {
    "pycharm": {
     "name": "#%%\n"
    }
   },
   "outputs": [],
   "source": [
    "def print_matrix(_mat):\n",
    "    df = pd.DataFrame(_mat.toarray())\n",
    "    display.display(df)"
   ]
  },
  {
   "cell_type": "code",
   "execution_count": 3,
   "metadata": {
    "pycharm": {
     "name": "#%%\n"
    }
   },
   "outputs": [],
   "source": [
    "def poly2latex(func_name, p):\n",
    "    if p.order == 0:\n",
    "        c = p[0]\n",
    "        if c >= 0:\n",
    "            term = f'{c:.2g}'\n",
    "        else:\n",
    "            term = f'{c:+.2g}'\n",
    "        return f'${func_name}(x)={term}$'\n",
    "\n",
    "    terms = []\n",
    "    for i, c in enumerate(p):\n",
    "        if np.isclose(c,0):\n",
    "            continue\n",
    "\n",
    "        if i == p.order and not np.isclose(c, 0):\n",
    "            term = f'{{{c:+.2g}}}'\n",
    "        elif i == 0 and c >= 0:\n",
    "            term = '' if np.isclose(c, 1) else f'{{{c:.2g}}}'\n",
    "        else:\n",
    "            term = '-' if np.isclose(c, -1) else f'{{{c:+.2g}}}'\n",
    "\n",
    "        if i == p.order - 1:\n",
    "            term += 'x'\n",
    "        elif i < p.order - 1:\n",
    "            term += f'x^{p.order - i}'\n",
    "        terms.append(term)\n",
    "    return f'${func_name}(x)={\"\".join(terms)}$'\n",
    "\n",
    "def display_polynomial(name, p):\n",
    "    display.display(display.Latex(poly2latex(name, p)))\n",
    "\n",
    "ip = get_ipython()\n",
    "latex_formatter = ip.display_formatter.formatters['text/latex']\n",
    "latex_formatter.for_type_by_name('numpy.polynomial.polynomial',\n",
    "                                 'Polynomial', lambda p: poly2latex('P', p))"
   ]
  },
  {
   "cell_type": "markdown",
   "metadata": {},
   "source": [
    "## Plotting the Kohomoto butterfly\n",
    "\n",
    "For some introduction\n",
    "The Kohomoto butterfly is a plot of the spectrum of the discrete schrodinger operator on a quasiperiodic chain.\n",
    "\n",
    "If we look at a function $f:\\mathbb{Z}\\to\\mathbb{R}$ we can define for a given $\\alpha \\in (0,1)$ the operator\n",
    "$H_\\alpha$ which operates on the function $f$ and returns a function of the same kind\n",
    "(which we will mark as $H_\\alpha f$) like so:\n",
    "$$[H_\\alpha f](n) = f(n-1)+f(n+1)+V(n)f(n)$$\n",
    "Where $V(n)$ is a function from the integers to the real numbers which is named the potential.\n",
    "This potential is the quasiperiodic chain.\n",
    "\n",
    "Now for a given $\\alpha$ and a given $v$\n",
    "$$V(n)=   \\begin{cases}  v, \\quad \\text{  if   } \\,\\, 1-\\alpha\\leq z(n) < 1 \\\\ 0,  \\quad \\text{otherwise} \\end{cases}$$\n",
    "This $H_\\alpha$ operator can be thought about as an infinite matrix where the diagonal is $V(n)$ and the superdiagonal\n",
    "and subdiagonal are 1.\n",
    "$$\n",
    "H_\\alpha =\n",
    "\\begin{pmatrix}\n",
    "\\ddots& &  &  &  &  &\\\\\n",
    "&V(-2) & 1 & 0 & 0 & 0&\\\\\n",
    "&1 & V(-1) & 1 & 0 & 0&\\\\\n",
    "&0 & 1 & V(0) & 1 & 0 &\\\\\n",
    "&0 & 0 & 1 & V(1) & 1 &\\\\\n",
    "&0 & 0 & 0 & 1 & V(2) &\\\\\n",
    "& &  &  &  &  & \\ddots\n",
    "\\end{pmatrix}\n",
    "$$\n",
    "The spectrum of $H_\\alpha$ can be thought of as its eigenvalues, the Kohomoto butterfly is a plot of $\\alpha$ against\n",
    "$H_\\alpha$ spectrum.\n",
    "\n",
    "We know how to draw the spectrum for a rational $\\alpha$ and so that is what we will draw.\n",
    "We will explore 2 ways to draw the butterfly.\n",
    "\n",
    "* Using submatrices of $H_\\alpha$\n",
    "* With the Bloch theorem"
   ]
  },
  {
   "cell_type": "markdown",
   "metadata": {},
   "source": [
    "### Plotting the butterfly with submatrices of $H_\\alpha$\n",
    "\n",
    "Let $\\frac{p}{q}$ be the lowest term of the rational $\\alpha$ then we know that $V(n)$ is periodic with a cycle of size q.\n",
    "We will look at a submatrix of size $q\\times q$ of $H_\\alpha$.\n",
    "We'll name the submatrix as $H_q$"
   ]
  },
  {
   "cell_type": "code",
   "execution_count": 4,
   "metadata": {
    "pycharm": {
     "name": "#%%\n"
    }
   },
   "outputs": [],
   "source": [
    "def get_matrix_for_alpha(p, q, v=1):\n",
    "    alpha = fractions.Fraction(p,q)\n",
    "    p = alpha.numerator\n",
    "    q = alpha.denominator\n",
    "    na = np.arange(q) * alpha \n",
    "    na -= np.floor(na)\n",
    "    v_n = np.where(na >= 1-alpha, v, 0)\n",
    "    return scipy.sparse.diags([1, v_n, 1], [-1, 0, 1], shape=(q, q), dtype=np.int32)"
   ]
  },
  {
   "cell_type": "markdown",
   "metadata": {},
   "source": [
    "Now we will parametrize $H_q$ with $\\theta$ so for example for $q=5$ with some $V(n)$.\n",
    "$$\n",
    "H_q(\\theta) =\n",
    "\\begin{pmatrix}\n",
    "v & 1 & 0 & 0 & e^{-i\\theta}\\\\\n",
    "1 & v & 1 & 0 & 0\\\\\n",
    "0 & 1 & 0 & 1 & 0\\\\\n",
    "0 & 0 & 1 & 0 & 1\\\\\n",
    "e^{i\\theta} & 0 & 0 & 1 & v\\\\\n",
    "\\end{pmatrix}\n",
    "$$\n",
    "\n",
    "now for each $\\theta$ we can get the eigenvalues of $H_q(\\theta)$ and plot them against $\\theta$\n",
    "We should get $q$ separate plot lines.\n",
    "\n",
    "Each plot line $g$ defines an interval $[\\min(g), \\max(g)]$ which is an interval in the spectrum of $H_\\alpha$"
   ]
  },
  {
   "cell_type": "code",
   "execution_count": 5,
   "metadata": {
    "pycharm": {
     "name": "#%%\n"
    }
   },
   "outputs": [],
   "source": [
    "def plot_spectrum_lines(_mat):\n",
    "    thetas = np.linspace(0, 3, 1000)\n",
    "    x = []\n",
    "    y = []\n",
    "    _mat = _mat.toarray()\n",
    "    _mat = _mat.astype(np.complex128)\n",
    "    q = _mat.shape[0]\n",
    "\n",
    "    for theta in thetas:\n",
    "        _mat[0][q-1] = np.exp(-1j*theta)\n",
    "        _mat[q-1][0] = np.exp(1j*theta)\n",
    "        x.extend([theta]*q)\n",
    "        y.extend(scipy.linalg.eigvalsh(_mat))\n",
    "    fig, ax = plt.subplots(figsize=(5,5))\n",
    "    fig.subplots_adjust(.02,.02,.98,.9)\n",
    "    ax.scatter(x, y, s=2)"
   ]
  },
  {
   "cell_type": "markdown",
   "metadata": {},
   "source": [
    "So for $H_{5/7}$ we should get 7 plot lines and thus its spectrum consists of 7 separate intervals."
   ]
  },
  {
   "cell_type": "code",
   "execution_count": 6,
   "metadata": {
    "pycharm": {
     "name": "#%%\n"
    }
   },
   "outputs": [
    {
     "data": {
      "image/png": "[encoded data removed]",
      "text/plain": [
       "<Figure size 360x360 with 1 Axes>"
      ]
     },
     "metadata": {
      "needs_background": "light"
     },
     "output_type": "display_data"
    }
   ],
   "source": [
    "p = 5\n",
    "q = 7\n",
    "frac = fractions.Fraction(p, q)\n",
    "mat = get_matrix_for_alpha(p, q)\n",
    "plot_spectrum_lines(mat)"
   ]
  },
  {
   "cell_type": "markdown",
   "metadata": {},
   "source": [
    "But it is known that we get $\\min(g), \\max(g)$ at $\\theta=0$ and $\\theta=\\pi$ so we can calculate only them"
   ]
  },
  {
   "cell_type": "code",
   "execution_count": 7,
   "metadata": {
    "pycharm": {
     "name": "#%%\n"
    }
   },
   "outputs": [],
   "source": [
    "def get_intervals_from_matrix(_mat, driver='ev'):\n",
    "    _q = _mat.shape[0]\n",
    "    \n",
    "    diag_bl = np.diag([1], -_q+1)\n",
    "    diag_tr = np.diag([1], _q-1)\n",
    "\n",
    "    _mat += diag_bl\n",
    "    _mat += diag_tr\n",
    "    eig_zero = scipy.linalg.eigvalsh(_mat, driver=driver)\n",
    "    _mat -= 2*diag_bl\n",
    "    _mat -= 2*diag_tr\n",
    "    eig_pi = scipy.linalg.eigvalsh(_mat, driver=driver)\n",
    "    _mat += diag_bl\n",
    "    _mat += diag_tr\n",
    "\n",
    "    _intervals = sortednp.merge(eig_zero, eig_pi)\n",
    "    _intervals.shape = (_q, 2)\n",
    "\n",
    "    return _intervals"
   ]
  },
  {
   "cell_type": "code",
   "execution_count": 8,
   "metadata": {},
   "outputs": [],
   "source": [
    "def get_spectrum_min_max(_mat):\n",
    "    _q = _mat.shape[0]\n",
    "    \n",
    "    diag_bl = np.diag([1], -_q+1)\n",
    "    diag_tr = np.diag([1], _q-1)\n",
    "\n",
    "    _mat += diag_bl\n",
    "    _mat += diag_tr\n",
    "    min_zero = scipy.linalg.eigvalsh(_mat, subset_by_index=[0, 0], driver='evr')[0]\n",
    "    max_zero = scipy.linalg.eigvalsh(_mat, subset_by_index=[_q-1, _q-1], driver='evr')[0]\n",
    "    _mat -= 2*diag_bl\n",
    "    _mat -= 2*diag_tr\n",
    "    min_pi = scipy.linalg.eigvalsh(_mat, subset_by_index=[0, 0], driver='evr')[0]\n",
    "    max_pi = scipy.linalg.eigvalsh(_mat, subset_by_index=[_q-1, _q-1], driver='evr')[0]\n",
    "    _mat += diag_bl\n",
    "    _mat += diag_tr\n",
    "    \n",
    "    _max = np.maximum(max_zero, max_pi)\n",
    "    _min = np.maximum(min_zero, min_pi)\n",
    "\n",
    "    return _min, _max"
   ]
  },
  {
   "cell_type": "code",
   "execution_count": 9,
   "metadata": {
    "pycharm": {
     "name": "#%%\n"
    }
   },
   "outputs": [],
   "source": [
    "def print_matrix_intervals(mat):\n",
    "    for x1, x2 in get_intervals_from_matrix(mat):\n",
    "        print(f'({x1}, {x2})')\n"
   ]
  },
  {
   "cell_type": "code",
   "execution_count": 10,
   "metadata": {
    "pycharm": {
     "name": "#%%\n"
    },
    "scrolled": true,
    "tags": []
   },
   "outputs": [
    {
     "name": "stdout",
     "output_type": "stream",
     "text": [
      "alpha=1/2\n"
     ]
    },
    {
     "data": {
      "text/html": [
       "<div>\n",
       "<style scoped>\n",
       "    .dataframe tbody tr th:only-of-type {\n",
       "        vertical-align: middle;\n",
       "    }\n",
       "\n",
       "    .dataframe tbody tr th {\n",
       "        vertical-align: top;\n",
       "    }\n",
       "\n",
       "    .dataframe thead th {\n",
       "        text-align: right;\n",
       "    }\n",
       "</style>\n",
       "<table border=\"1\" class=\"dataframe\">\n",
       "  <thead>\n",
       "    <tr style=\"text-align: right;\">\n",
       "      <th></th>\n",
       "      <th>0</th>\n",
       "      <th>1</th>\n",
       "    </tr>\n",
       "  </thead>\n",
       "  <tbody>\n",
       "    <tr>\n",
       "      <th>0</th>\n",
       "      <td>0</td>\n",
       "      <td>1</td>\n",
       "    </tr>\n",
       "    <tr>\n",
       "      <th>1</th>\n",
       "      <td>1</td>\n",
       "      <td>1</td>\n",
       "    </tr>\n",
       "  </tbody>\n",
       "</table>\n",
       "</div>"
      ],
      "text/plain": [
       "   0  1\n",
       "0  0  1\n",
       "1  1  1"
      ]
     },
     "metadata": {},
     "output_type": "display_data"
    },
    {
     "name": "stdout",
     "output_type": "stream",
     "text": [
      "(-1.5615528128088303, 0.0)\n",
      "(1.0, 2.5615528128088303)\n",
      "\n",
      "alpha=5/7\n"
     ]
    },
    {
     "data": {
      "text/html": [
       "<div>\n",
       "<style scoped>\n",
       "    .dataframe tbody tr th:only-of-type {\n",
       "        vertical-align: middle;\n",
       "    }\n",
       "\n",
       "    .dataframe tbody tr th {\n",
       "        vertical-align: top;\n",
       "    }\n",
       "\n",
       "    .dataframe thead th {\n",
       "        text-align: right;\n",
       "    }\n",
       "</style>\n",
       "<table border=\"1\" class=\"dataframe\">\n",
       "  <thead>\n",
       "    <tr style=\"text-align: right;\">\n",
       "      <th></th>\n",
       "      <th>0</th>\n",
       "      <th>1</th>\n",
       "      <th>2</th>\n",
       "      <th>3</th>\n",
       "      <th>4</th>\n",
       "      <th>5</th>\n",
       "      <th>6</th>\n",
       "    </tr>\n",
       "  </thead>\n",
       "  <tbody>\n",
       "    <tr>\n",
       "      <th>0</th>\n",
       "      <td>0</td>\n",
       "      <td>1</td>\n",
       "      <td>0</td>\n",
       "      <td>0</td>\n",
       "      <td>0</td>\n",
       "      <td>0</td>\n",
       "      <td>0</td>\n",
       "    </tr>\n",
       "    <tr>\n",
       "      <th>1</th>\n",
       "      <td>1</td>\n",
       "      <td>1</td>\n",
       "      <td>1</td>\n",
       "      <td>0</td>\n",
       "      <td>0</td>\n",
       "      <td>0</td>\n",
       "      <td>0</td>\n",
       "    </tr>\n",
       "    <tr>\n",
       "      <th>2</th>\n",
       "      <td>0</td>\n",
       "      <td>1</td>\n",
       "      <td>1</td>\n",
       "      <td>1</td>\n",
       "      <td>0</td>\n",
       "      <td>0</td>\n",
       "      <td>0</td>\n",
       "    </tr>\n",
       "    <tr>\n",
       "      <th>3</th>\n",
       "      <td>0</td>\n",
       "      <td>0</td>\n",
       "      <td>1</td>\n",
       "      <td>0</td>\n",
       "      <td>1</td>\n",
       "      <td>0</td>\n",
       "      <td>0</td>\n",
       "    </tr>\n",
       "    <tr>\n",
       "      <th>4</th>\n",
       "      <td>0</td>\n",
       "      <td>0</td>\n",
       "      <td>0</td>\n",
       "      <td>1</td>\n",
       "      <td>1</td>\n",
       "      <td>1</td>\n",
       "      <td>0</td>\n",
       "    </tr>\n",
       "    <tr>\n",
       "      <th>5</th>\n",
       "      <td>0</td>\n",
       "      <td>0</td>\n",
       "      <td>0</td>\n",
       "      <td>0</td>\n",
       "      <td>1</td>\n",
       "      <td>1</td>\n",
       "      <td>1</td>\n",
       "    </tr>\n",
       "    <tr>\n",
       "      <th>6</th>\n",
       "      <td>0</td>\n",
       "      <td>0</td>\n",
       "      <td>0</td>\n",
       "      <td>0</td>\n",
       "      <td>0</td>\n",
       "      <td>1</td>\n",
       "      <td>1</td>\n",
       "    </tr>\n",
       "  </tbody>\n",
       "</table>\n",
       "</div>"
      ],
      "text/plain": [
       "   0  1  2  3  4  5  6\n",
       "0  0  1  0  0  0  0  0\n",
       "1  1  1  1  0  0  0  0\n",
       "2  0  1  1  1  0  0  0\n",
       "3  0  0  1  0  1  0  0\n",
       "4  0  0  0  1  1  1  0\n",
       "5  0  0  0  0  1  1  1\n",
       "6  0  0  0  0  0  1  1"
      ]
     },
     "metadata": {},
     "output_type": "display_data"
    },
    {
     "name": "stdout",
     "output_type": "stream",
     "text": [
      "(-1.377202853972958, -1.2469796037174672)\n",
      "(-1.1438644257528587, -0.8793852415718172)\n",
      "(-0.2738905549642174, 0.14155804524315135)\n",
      "(0.4450418679126287, 1.0000000000000007)\n",
      "(1.3472963553338617, 1.8019377358048383)\n",
      "(2.2183096530474744, 2.5320888862379545)\n",
      "(2.651093408937176, 2.7839967274622315)\n"
     ]
    }
   ],
   "source": [
    "print(f'alpha={1}/{2}')\n",
    "mat = get_matrix_for_alpha(1, 2)\n",
    "print_matrix(mat)\n",
    "print_matrix_intervals(mat)\n",
    "print()\n",
    "print(f'alpha={5}/{7}')\n",
    "mat = get_matrix_for_alpha(5, 7)\n",
    "print_matrix(mat)\n",
    "print_matrix_intervals(mat)"
   ]
  },
  {
   "cell_type": "markdown",
   "metadata": {},
   "source": [
    "#### Actually plotting\n",
    "\n",
    "Now to plot the entire butterfly we'll just choose a list of fractions for each fraction $\\alpha$\n",
    "calculate the spectrum of $H_\\alpha$ and plot it as lines at $y=\\alpha$"
   ]
  },
  {
   "cell_type": "code",
   "execution_count": 11,
   "metadata": {
    "pycharm": {
     "name": "#%%\n"
    }
   },
   "outputs": [],
   "source": [
    "def plot_butterfly(alphas, name, *, linewidth=0.1, dpi=400, v=1, driver='ev'):\n",
    "    fig, ax = plt.subplots(figsize=(10,10))\n",
    "    ax.set_yticks(np.linspace(0, 1, 21))\n",
    "    counter = 0\n",
    "    for alpha in tqdm.notebook.tqdm(alphas):\n",
    "        mat = get_matrix_for_alpha(alpha.numerator, alpha.denominator, v)\n",
    "        for x1, x2 in get_intervals_from_matrix(mat, driver=driver):\n",
    "            ax.plot([x1, x2], [alpha, alpha], 'k-', linewidth=linewidth)\n",
    "    ax.plot([-2, 2], [0, 0], 'k-', linewidth=linewidth)\n",
    "    ax.plot([-2 + v, 2 + v], [1, 1], 'k-', linewidth=linewidth)\n",
    "    ax.set_ylabel('Frequencies \\u03B1')\n",
    "    ax.set_xlabel('Spectrum')\n",
    "    fig.savefig(f'output/{name}.png', dpi=dpi)\n",
    "    # fig.savefig(f'output/{name}.svg', format='svg')\n",
    "    # fig.savefig(f'output/{name}.eps', format='eps')"
   ]
  },
  {
   "cell_type": "code",
   "execution_count": 12,
   "metadata": {
    "pycharm": {
     "name": "#%%\n"
    }
   },
   "outputs": [],
   "source": [
    "def plot_spectral_radius(alphas, *, markersize=2):\n",
    "    fig, ax = plt.subplots(2, figsize=(10,10))\n",
    "    counter = 0\n",
    "    max_radius = []\n",
    "    min_radius = []\n",
    "    for alpha in tqdm.notebook.tqdm(alphas):\n",
    "        mat = get_matrix_for_alpha(alpha.numerator, alpha.denominator)\n",
    "        _min, _max = get_spectrum_min_max(mat)\n",
    "        max_radius.append(_max)\n",
    "        min_radius.append(_min)\n",
    "    ax[0].plot(alphas, max_radius, 'o-', markersize=markersize)\n",
    "    ax[0].set_title('max radius')\n",
    "    ax[1].plot(alphas, min_radius, 'o-', markersize=markersize)\n",
    "    ax[1].set_title('min radius')"
   ]
  },
  {
   "cell_type": "markdown",
   "metadata": {},
   "source": [
    "For choosing the fractions we'll try 2 lists\n",
    "\n",
    "* Choose a list of denominators $q$ and for each we go over the fractions\n",
    "$\\frac{1}{q}$ to $\\frac{q-1}{q}$.\n",
    "We choose the denominators as the primes from $11$ to $n$ so we'll get unique fractions and\n",
    "$2^3 \\cdot 3^3,5^3,7^2$ to get more of the simpler fractions such as $\\frac{1}{2}, \\frac{2}{3}, \\frac{1}{6}$ etc..."
   ]
  },
  {
   "cell_type": "code",
   "execution_count": 13,
   "metadata": {
    "pycharm": {
     "name": "#%%\n"
    }
   },
   "outputs": [],
   "source": [
    "def primesfrom2to(n):\n",
    "    \"\"\" Input n>=6, Returns a array of primes, 2 <= p < n \"\"\"\n",
    "    sieve = numpy.ones(n//3 + (n%6==2), dtype=numpy.bool)\n",
    "    for i in range(1,int(n**0.5)//3+1):\n",
    "        if sieve[i]:\n",
    "            k=3*i+1|1\n",
    "            sieve[       k*k//3     ::2*k] = False\n",
    "            sieve[k*(k-2*(i&1)+4)//3::2*k] = False\n",
    "    return numpy.r_[2,3,((3*numpy.nonzero(sieve)[0][1:]+1)|1)]"
   ]
  },
  {
   "cell_type": "markdown",
   "metadata": {},
   "source": [
    "> **WARNING**: This is not super efficient so it might take some time"
   ]
  },
  {
   "cell_type": "code",
   "execution_count": 14,
   "metadata": {
    "pycharm": {
     "name": "#%%\n"
    },
    "tags": []
   },
   "outputs": [
    {
     "data": {
      "application/vnd.jupyter.widget-view+json": {
       "model_id": "29203e08d2bb4f4eb0bca7163dd80809",
       "version_major": 2,
       "version_minor": 0
      },
      "text/plain": [
       "HBox(children=(FloatProgress(value=0.0, max=2615.0), HTML(value='')))"
      ]
     },
     "metadata": {},
     "output_type": "display_data"
    },
    {
     "name": "stdout",
     "output_type": "stream",
     "text": [
      "\n",
      "Wall time: 4min 21s\n"
     ]
    },
    {
     "data": {
      "image/png": "[encoded data removed]",
      "text/plain": [
       "<Figure size 720x720 with 1 Axes>"
      ]
     },
     "metadata": {
      "needs_background": "light"
     },
     "output_type": "display_data"
    }
   ],
   "source": [
    "%%time\n",
    "\n",
    "if should_run_long_running_cells:\n",
    "    n = 150\n",
    "    primes = primesfrom2to(n)[4:]\n",
    "    primes = np.append(primes, (125, 49, 216))\n",
    "    alphas = []\n",
    "    for q in primes:\n",
    "        for p in range(1, q):\n",
    "            alphas.append(fractions.Fraction(p, q))\n",
    "    plot_butterfly(alphas, f\"primes_{n}\")"
   ]
  },
  {
   "cell_type": "code",
   "execution_count": 15,
   "metadata": {
    "pycharm": {
     "name": "#%%\n"
    }
   },
   "outputs": [
    {
     "data": {
      "application/vnd.jupyter.widget-view+json": {
       "model_id": "69a81927b46b459fb92199e61808b90d",
       "version_major": 2,
       "version_minor": 0
      },
      "text/plain": [
       "HBox(children=(FloatProgress(value=0.0, max=150.0), HTML(value='')))"
      ]
     },
     "metadata": {},
     "output_type": "display_data"
    },
    {
     "name": "stdout",
     "output_type": "stream",
     "text": [
      "\n",
      "Wall time: 29.6 s\n"
     ]
    },
    {
     "data": {
      "image/png": "[encoded data removed]",
      "text/plain": [
       "<Figure size 720x720 with 2 Axes>"
      ]
     },
     "metadata": {
      "needs_background": "light"
     },
     "output_type": "display_data"
    }
   ],
   "source": [
    "%%time\n",
    "\n",
    "if should_run_long_running_cells:\n",
    "    n = 500\n",
    "    alphas = []\n",
    "    for i in range(200, n, 2):\n",
    "        alphas.append(fractions.Fraction(1, i))\n",
    "    plot_spectral_radius(alphas)"
   ]
  },
  {
   "cell_type": "markdown",
   "metadata": {},
   "source": [
    "* Farey sequence - this sequence of order n is the sequence of completely reduced fractions between 0 and 1\n",
    "\n",
    "  The asymptotic behaviour of $|Fn|$ is: $$|F_{n}| \\sim \\frac{3n^2}{\\pi^2}$$"
   ]
  },
  {
   "cell_type": "code",
   "execution_count": 16,
   "metadata": {
    "pycharm": {
     "name": "#%%\n"
    }
   },
   "outputs": [],
   "source": [
    "def farey_sequence(n: int, descending: bool = False, print_ends: bool = False):\n",
    "    \"\"\"Generator for the n'th Farey sequence. with or without 0 and 1, Allow for either ascending or descending.\"\"\"\n",
    "    (a, b, c, d) = (0, 1, 1, n)\n",
    "    c_end = n if print_ends else n-1\n",
    "    if descending:\n",
    "        (a, c) = (1, n - 1)\n",
    "    if print_ends:\n",
    "        yield fractions.Fraction(a, b)\n",
    "    while (c <= c_end and not descending) or (a > 0 and descending):\n",
    "        k = (n + b) // d\n",
    "        (a, b, c, d) = (c, d, k * c - a, k * d - b)\n",
    "        if a != 0 and a != b:\n",
    "            yield fractions.Fraction(a, b)"
   ]
  },
  {
   "cell_type": "markdown",
   "metadata": {},
   "source": [
    "> **WARNING**: This is not super efficient so it might take some time"
   ]
  },
  {
   "cell_type": "code",
   "execution_count": 17,
   "metadata": {
    "pycharm": {
     "name": "#%%\n"
    },
    "scrolled": false
   },
   "outputs": [
    {
     "data": {
      "application/vnd.jupyter.widget-view+json": {
       "model_id": "21c961a8cfa44b7da6bade14a3485d9d",
       "version_major": 2,
       "version_minor": 0
      },
      "text/plain": [
       "HBox(children=(FloatProgress(value=0.0, max=6857.0), HTML(value='')))"
      ]
     },
     "metadata": {},
     "output_type": "display_data"
    },
    {
     "name": "stdout",
     "output_type": "stream",
     "text": [
      "\n",
      "Wall time: 12min\n"
     ]
    },
    {
     "data": {
      "image/png": "[encoded data removed]",
      "text/plain": [
       "<Figure size 720x720 with 1 Axes>"
      ]
     },
     "metadata": {
      "needs_background": "light"
     },
     "output_type": "display_data"
    }
   ],
   "source": [
    "%%time\n",
    "if should_run_long_running_cells:\n",
    "    n = 150 # This will be 6857 fractions\n",
    "    plot_butterfly(list(farey_sequence(n)), f\"farey_{n}\", linewidth=0.01,dpi=1000)"
   ]
  },
  {
   "cell_type": "markdown",
   "metadata": {},
   "source": [
    "### Plotting the butterfly with the Bloch theorem\n",
    "\n",
    "We'll be using the map relations:\n",
    "$$\n",
    "\\begin{align}\n",
    "x_{k+1} & = z_k S_{a_{k+1}-1}(x_k)-y_k S_{a_{k+1}-2}(x_k) \\\\\\\n",
    "y_{k+1} & = x_k \\\\\\\n",
    "z_{k+1} & = z_k S_{a_{k+1}}(x_k)-y_k S_{a_{k+1}-1}(x_k)\n",
    "\\end{align}\n",
    "$$\n",
    " \n",
    "Where $S_l$ denotes the $l^\\underline{th}$  Chebischev polynomial of the second kind \n",
    "$$\n",
    "\\begin{align}\n",
    "S_{-1}(x) & = 0 \\\\\\\n",
    "S_{0}(x) & = 1 \\\\\\\n",
    "S_{l+1}(x) & = xS_{l}(x)-S_{l-1}(x),\\forall l\\geq0\n",
    "\\end{align}\n",
    "$$\n",
    "\n",
    "We use the `scipy.special.eval_chebys` function"
   ]
  },
  {
   "cell_type": "code",
   "execution_count": 18,
   "metadata": {
    "pycharm": {
     "name": "#%%\n"
    }
   },
   "outputs": [],
   "source": [
    "def print_map_relations(index, x, y, z):\n",
    "    print(f'x{index}={x}, y{index}={y}, z{index}={z}')"
   ]
  },
  {
   "cell_type": "code",
   "execution_count": 19,
   "metadata": {
    "pycharm": {
     "name": "#%%\n"
    }
   },
   "outputs": [],
   "source": [
    "def calculate_trace(E, cr, verbose=False):\n",
    "    E = np.float64(E)\n",
    "    x = E\n",
    "    y = 2\n",
    "    z = E-1\n",
    "    if verbose: print_map_relations(0, x, y, z)\n",
    "    for index, a in enumerate(cr):\n",
    "        x_prev = x\n",
    "        y_prev = y\n",
    "        z_prev = z\n",
    "        a = int(a)\n",
    "        S = scipy.special.eval_chebys((a, a-1, a-2), (x_prev,))\n",
    "\n",
    "        x = np.multiply(z_prev, S[1])-np.multiply(y_prev, S[2])\n",
    "        y = x_prev\n",
    "        z = np.multiply(z_prev, S[0])-np.multiply(y_prev, S[1])\n",
    "        if verbose: print_map_relations(index + 1, x, y, z)\n",
    "    return x"
   ]
  },
  {
   "cell_type": "code",
   "execution_count": 20,
   "metadata": {
    "pycharm": {
     "name": "#%%\n"
    }
   },
   "outputs": [
    {
     "name": "stdout",
     "output_type": "stream",
     "text": [
      "x0=2.56155, y0=2, z0=1.56155\n",
      "x1=1.56155, y1=2.56155, z1=1.9999884025\n",
      "x2=0.561531889923875, y2=1.56155, z2=-1.123128279789373\n",
      "0.561531889923875\n",
      "(-1.4142135623730951, -0.7320508075688775)\n",
      "(-1.1102230246251573e-16, 1.4142135623730951)\n",
      "(1.9999999999999998, 2.7320508075688767)\n"
     ]
    }
   ],
   "source": [
    "p = 2\n",
    "q = 3\n",
    "frac = fractions.Fraction(p, q)\n",
    "cr = continued_fraction(frac)[1:]\n",
    "mat = get_matrix_for_alpha(p, q)\n",
    "trace = calculate_trace(2.56155, cr, verbose=True)\n",
    "print(trace)\n",
    "print_matrix_intervals(mat)\n",
    "# for a, b in get_ranges(mat):\\n\",\n",
    "#     print(calculate_trace(a, cr))\\n\",\n",
    "#     print(calculate_trace(b, cr))\""
   ]
  },
  {
   "cell_type": "code",
   "execution_count": 21,
   "metadata": {
    "pycharm": {
     "name": "#%%\n"
    }
   },
   "outputs": [],
   "source": [
    "def find_roots(f, values_space, verbose=False):\n",
    "    c = f(values_space)\n",
    "    s = numpy.sign(c)\n",
    "    roots = []\n",
    "    for i in range(1000-1):\n",
    "        if s[i] + s[i+1] == 0: # oposite signs\\n\",\n",
    "            u = scipy.optimize.brentq(f, values_space[i], values_space[i+1])\n",
    "            z = f(u)\n",
    "            if numpy.isnan(z) or abs(z) > 1e-3:\n",
    "                continue\n",
    "            roots.append(u)\n",
    "            if verbose: print('found zero at {}'.format(u))\n",
    "\n",
    "    return np.array(roots)"
   ]
  },
  {
   "cell_type": "code",
   "execution_count": 22,
   "metadata": {
    "pycharm": {
     "name": "#%%\n"
    }
   },
   "outputs": [],
   "source": [
    "def get_intervals_from_cr_using_calculate_trace_func(cr, values_space):\n",
    "    vcalculate_trace = np.vectorize(calculate_trace, excluded=['cr'])\n",
    "    vcalculate_trace.excluded.add(1)\n",
    "    low_roots = find_roots(lambda x: vcalculate_trace(x, cr)-2, values_space)\n",
    "    high_roots = find_roots(lambda x: vcalculate_trace(x, cr)+2, values_space)\n",
    "    _ranges = sortednp.merge(low_roots, high_roots)\n",
    "    _ranges.shape = (len(_ranges)//2, 2)\n",
    "\n",
    "    return _ranges"
   ]
  },
  {
   "cell_type": "code",
   "execution_count": 23,
   "metadata": {
    "pycharm": {
     "name": "#%%\n"
    }
   },
   "outputs": [
    {
     "data": {
      "image/png": "[encoded data removed]",
      "text/plain": [
       "<Figure size 360x360 with 1 Axes>"
      ]
     },
     "metadata": {
      "needs_background": "light"
     },
     "output_type": "display_data"
    }
   ],
   "source": [
    "p = 2\n",
    "q = 3\n",
    "frac = fractions.Fraction(p, q)\n",
    "cr = continued_fraction(frac)[1:]\n",
    "mat = get_matrix_for_alpha(p, q)\n",
    "\n",
    "values_space = np.linspace(-2,3, 1000)\n",
    "vcalculate_trace = np.vectorize(calculate_trace, excluded=['cr'])\n",
    "vcalculate_trace.excluded.add(1)\n",
    "traces = vcalculate_trace(E=values_space, cr=cr)\n",
    "\n",
    "fig, ax = plt.subplots(figsize=(5,5))\n",
    "ax.set_ylim(bottom=-4, top=4)\n",
    "\n",
    "ax.plot(values_space, traces)\n",
    "ax.plot([-np.pi, np.pi], [2, 2], 'k-')\n",
    "ax.plot([-np.pi, np.pi], [-2, -2], 'k-')\n",
    "\n",
    "for a,b in get_intervals_from_matrix(mat):\n",
    "    plt.plot([a, a], [-4, 4], 'k-')\n",
    "    plt.plot([b, b], [-4, 4], 'k-')"
   ]
  },
  {
   "cell_type": "code",
   "execution_count": 24,
   "metadata": {},
   "outputs": [
    {
     "name": "stdout",
     "output_type": "stream",
     "text": [
      "Wall time: 979 µs\n"
     ]
    }
   ],
   "source": [
    "%%time \n",
    "int1 = get_intervals_from_matrix(mat)"
   ]
  },
  {
   "cell_type": "code",
   "execution_count": 25,
   "metadata": {},
   "outputs": [
    {
     "name": "stdout",
     "output_type": "stream",
     "text": [
      "Wall time: 272 ms\n"
     ]
    }
   ],
   "source": [
    "%%time\n",
    "int2 = get_intervals_from_cr_using_calculate_trace_func(cr, values_space)"
   ]
  },
  {
   "cell_type": "code",
   "execution_count": 26,
   "metadata": {
    "pycharm": {
     "name": "#%%\n"
    }
   },
   "outputs": [],
   "source": [
    "def get_chebyshev_coeff(degree):\n",
    "    if degree == -1:\n",
    "        return np.poly1d([0])\n",
    "    cheb_poly = scipy.special.chebyu(degree, monic=False)\n",
    "    return cheb_poly(np.poly1d([0.5, 0]))\n",
    "\n",
    "def calculate_trace_polynomial(cr, verbose=False):\n",
    "    x = np.poly1d([1, 0])\n",
    "    y = np.poly1d([2])\n",
    "    z = np.poly1d([1, -1])\n",
    "    if verbose:\n",
    "        display_polynomial('x_0', x)\n",
    "        display_polynomial('y_0', y)\n",
    "        display_polynomial('z_0', z)\n",
    "    for index, a in enumerate(cr):\n",
    "        x_prev = x\n",
    "        y_prev = y\n",
    "        z_prev = z\n",
    "        a = int(a)\n",
    "        S = [\n",
    "            get_chebyshev_coeff(a),\n",
    "            get_chebyshev_coeff(a-1),\n",
    "            get_chebyshev_coeff(a-2)\n",
    "        ]\n",
    "\n",
    "        x = z_prev * S[1](x_prev)-y_prev * S[2](x_prev)\n",
    "        y = x_prev\n",
    "        z = z_prev * S[0](x_prev)-y_prev * S[1](x_prev)\n",
    "        if verbose:\n",
    "            display_polynomial(f'x_{index}', x)\n",
    "            display_polynomial(f'y_{index}', y)\n",
    "            display_polynomial(f'z_{index}', z)\n",
    "    return x"
   ]
  },
  {
   "cell_type": "code",
   "execution_count": 27,
   "metadata": {
    "pycharm": {
     "name": "#%%\n"
    }
   },
   "outputs": [
    {
     "data": {
      "text/latex": [
       "$p_{2/3}(x)=x^3{-2}x^2{-2}x{+2}$"
      ],
      "text/plain": [
       "<IPython.core.display.Latex object>"
      ]
     },
     "metadata": {},
     "output_type": "display_data"
    },
    {
     "data": {
      "image/png": "[encoded data removed]",
      "text/plain": [
       "<Figure size 360x360 with 1 Axes>"
      ]
     },
     "metadata": {
      "needs_background": "light"
     },
     "output_type": "display_data"
    }
   ],
   "source": [
    "p = 2\n",
    "q = 3\n",
    "frac = fractions.Fraction(p, q)\n",
    "cr = continued_fraction(frac)[1:]\n",
    "mat = get_matrix_for_alpha(p, q)\n",
    "\n",
    "trace_p = calculate_trace_polynomial(cr)\n",
    "display_polynomial(f'p_{{{frac}}}', trace_p)\n",
    "x = np.linspace(-2, 3, 100)\n",
    "y = trace_p(x)\n",
    "\n",
    "fig, ax = plt.subplots(figsize=(5,5))\n",
    "ax.set_ylim(bottom=-4, top=4)\n",
    "ax.plot(x, y)\n",
    "ax.plot([-2, 3], [2, 2], 'k-')\n",
    "ax.plot([-2, 3], [-2, -2], 'k-')\n",
    "\n",
    "for a,b in get_intervals_from_matrix(mat):\n",
    "    plt.plot([a, a], [-4, 4], 'k-')\n",
    "    plt.plot([b, b], [-4, 4], 'k-')"
   ]
  },
  {
   "cell_type": "code",
   "execution_count": 28,
   "metadata": {
    "pycharm": {
     "name": "#%%\n"
    }
   },
   "outputs": [],
   "source": [
    "def get_intervals_from_cr_using_calculate_trace_polynomial(cr):\n",
    "    poly = calculate_trace_polynomial(cr)\n",
    "    low_roots = (poly-2).roots\n",
    "    high_roots = (poly+2).roots\n",
    "\n",
    "    _intervals = np.concatenate((low_roots, high_roots))\n",
    "    _intervals.sort()\n",
    "    _intervals.shape = (len(_intervals)//2, 2)\n",
    "\n",
    "    return _intervals"
   ]
  },
  {
   "cell_type": "code",
   "execution_count": 29,
   "metadata": {
    "pycharm": {
     "name": "#%%\n"
    }
   },
   "outputs": [],
   "source": [
    "p = 2\n",
    "q = 10\n",
    "frac = fractions.Fraction(p, q)\n",
    "cr = continued_fraction(frac)[1:]\n",
    "mat = get_matrix_for_alpha(p, q)\n",
    "\n",
    "int1 = get_intervals_from_matrix(mat)\n",
    "int2 = get_intervals_from_cr_using_calculate_trace_polynomial(cr)"
   ]
  },
  {
   "cell_type": "code",
   "execution_count": 30,
   "metadata": {
    "pycharm": {
     "name": "#%%\n"
    }
   },
   "outputs": [],
   "source": [
    "def get_matrix_for_cr(cr, E, V=1):\n",
    "    M_prev = np.array([(1, -V), (0, 1)])\n",
    "    M = np.array([(E, -1), (1, 0)])\n",
    "    for a in cr:\n",
    "        a = int(a)\n",
    "        M_next = np.matmul(M_prev, np.linalg.matrix_power(M, a))\n",
    "        M_prev = M\n",
    "        M = M_next\n",
    "\n",
    "    return M\n",
    "\n",
    "def get_trace_from_matrix_cr(E, cr, V=1):\n",
    "    mat = get_matrix_for_cr(cr, E, V)\n",
    "    return mat[0][0] + mat[1][1]"
   ]
  },
  {
   "cell_type": "code",
   "execution_count": 31,
   "metadata": {
    "pycharm": {
     "name": "#%%\n"
    }
   },
   "outputs": [],
   "source": [
    "def get_intervals_from_cr_using_get_trace_from_matrix_cr_func(cr, values_space):\n",
    "    vcalculate_trace = np.vectorize(get_trace_from_matrix_cr, excluded=['cr', 'V'])\n",
    "    vcalculate_trace.excluded.add(1)\n",
    "    vcalculate_trace.excluded.add(2)\n",
    "    low_roots = find_roots(lambda x: vcalculate_trace(x, cr, 1)-2, values_space)\n",
    "    high_roots = find_roots(lambda x: vcalculate_trace(x, cr, 1)+2, values_space)\n",
    "    _ranges = sortednp.merge(low_roots, high_roots)\n",
    "    _ranges.shape = (len(_ranges)//2, 2)\n",
    "\n",
    "    return _ranges"
   ]
  },
  {
   "cell_type": "code",
   "execution_count": 32,
   "metadata": {
    "pycharm": {
     "name": "#%%\n"
    }
   },
   "outputs": [
    {
     "data": {
      "image/png": "[encoded data removed]",
      "text/plain": [
       "<Figure size 360x360 with 1 Axes>"
      ]
     },
     "metadata": {
      "needs_background": "light"
     },
     "output_type": "display_data"
    }
   ],
   "source": [
    "p = 5\n",
    "q = 7\n",
    "frac = fractions.Fraction(p, q)\n",
    "cr = continued_fraction(frac)[1:]\n",
    "mat = get_matrix_for_alpha(p, q)\n",
    "\n",
    "values_space = np.linspace(-2,3, 1000)\n",
    "vcalculate_trace = np.vectorize(get_trace_from_matrix_cr, excluded=['cr', 'V'])\n",
    "vcalculate_trace.excluded.add(1)\n",
    "vcalculate_trace.excluded.add(2)\n",
    "traces = vcalculate_trace(E=values_space, cr=cr, V=1)\n",
    "\n",
    "fig, ax = plt.subplots(figsize=(5,5))\n",
    "ax.set_ylim(bottom=-4, top=4)\n",
    "\n",
    "ax.plot(values_space, traces)\n",
    "ax.plot([-2, 3], [2, 2], 'k-')\n",
    "ax.plot([-2, 3], [-2, -2], 'k-')\n",
    "\n",
    "for a,b in get_intervals_from_matrix(mat):\n",
    "    plt.plot([a, a], [-4, 4], 'k-')\n",
    "    plt.plot([b, b], [-4, 4], 'k-')"
   ]
  },
  {
   "cell_type": "code",
   "execution_count": 33,
   "metadata": {},
   "outputs": [
    {
     "name": "stdout",
     "output_type": "stream",
     "text": [
      "Wall time: 998 µs\n"
     ]
    }
   ],
   "source": [
    "%%time\n",
    "int1 = get_intervals_from_matrix(mat)"
   ]
  },
  {
   "cell_type": "code",
   "execution_count": 35,
   "metadata": {},
   "outputs": [
    {
     "name": "stdout",
     "output_type": "stream",
     "text": [
      "Wall time: 90 ms\n"
     ]
    }
   ],
   "source": [
    "%%time\n",
    "int2 = get_intervals_from_cr_using_get_trace_from_matrix_cr_func(cr, values_space)\n",
    "\n"
   ]
  }
 ],
 "metadata": {
  "kernelspec": {
   "display_name": "Python 3",
   "language": "python",
   "name": "python3"
  },
  "language_info": {
   "codemirror_mode": {
    "name": "ipython",
    "version": 3
   },
   "file_extension": ".py",
   "mimetype": "text/x-python",
   "name": "python",
   "nbconvert_exporter": "python",
   "pygments_lexer": "ipython3",
   "version": "3.8.6"
  },
  "widgets": {
   "application/vnd.jupyter.widget-state+json": {
    "state": {
     "007eb204f0a94cd28e06ee0eb297edb7": {
      "model_module": "@jupyter-widgets/base",
      "model_module_version": "1.2.0",
      "model_name": "LayoutModel",
      "state": {}
     },
     "0146c073e5c5445fae538c7e2b8df06c": {
      "model_module": "@jupyter-widgets/controls",
      "model_module_version": "1.5.0",
      "model_name": "ProgressStyleModel",
      "state": {
       "description_width": "initial"
      }
     },
     "01ce19c0aab64dac9e04c863cabd5714": {
      "model_module": "@jupyter-widgets/controls",
      "model_module_version": "1.5.0",
      "model_name": "HBoxModel",
      "state": {
       "children": [
        "IPY_MODEL_7e8f0be475944193a9c923e75a7f3615",
        "IPY_MODEL_a9b849ceb916486496c86190e1381177"
       ],
       "layout": "IPY_MODEL_5ea298e2e4c64dd19d7def774f295688"
      }
     },
     "0266d84fc2574535a6e8a961d15c2146": {
      "model_module": "@jupyter-widgets/base",
      "model_module_version": "1.2.0",
      "model_name": "LayoutModel",
      "state": {}
     },
     "02d2fc40f6484222bcfebe68c72252ab": {
      "model_module": "@jupyter-widgets/base",
      "model_module_version": "1.2.0",
      "model_name": "LayoutModel",
      "state": {}
     },
     "031b3f8c65e84246986a8ee760983b50": {
      "model_module": "@jupyter-widgets/base",
      "model_module_version": "1.2.0",
      "model_name": "LayoutModel",
      "state": {}
     },
     "0399f53d25b9431da02f35e5e242bd98": {
      "model_module": "@jupyter-widgets/controls",
      "model_module_version": "1.5.0",
      "model_name": "HTMLModel",
      "state": {
       "layout": "IPY_MODEL_096e4c222021440e9d80b9c9b98ec0e4",
       "style": "IPY_MODEL_7dc2e150d1c74ced812d69730fa0da5d",
       "value": " 0/6857 [00:00&lt;?, ?it/s]"
      }
     },
     "04d2117274454d659a62b8dee2370ed8": {
      "model_module": "@jupyter-widgets/base",
      "model_module_version": "1.2.0",
      "model_name": "LayoutModel",
      "state": {}
     },
     "04f6b29e29b44f9d94499d6938a727d3": {
      "model_module": "@jupyter-widgets/base",
      "model_module_version": "1.2.0",
      "model_name": "LayoutModel",
      "state": {}
     },
     "050f00298dfd48859bebc361237e9cc4": {
      "model_module": "@jupyter-widgets/controls",
      "model_module_version": "1.5.0",
      "model_name": "FloatProgressModel",
      "state": {
       "bar_style": "danger",
       "description": " 15%",
       "layout": "IPY_MODEL_1b6c23c026794fa9bda9ef0008cd4f47",
       "max": 6857,
       "style": "IPY_MODEL_da2e537799394b8792afb1fd42a5f264",
       "value": 1057
      }
     },
     "08785f0c0afd48c9ac95403bfe1a35e5": {
      "model_module": "@jupyter-widgets/controls",
      "model_module_version": "1.5.0",
      "model_name": "DescriptionStyleModel",
      "state": {
       "description_width": ""
      }
     },
     "08cbec5696124729a9de81c44e9ecc42": {
      "model_module": "@jupyter-widgets/controls",
      "model_module_version": "1.5.0",
      "model_name": "DescriptionStyleModel",
      "state": {
       "description_width": ""
      }
     },
     "08dac99e4082424fb07b2f78b0782d6a": {
      "model_module": "@jupyter-widgets/base",
      "model_module_version": "1.2.0",
      "model_name": "LayoutModel",
      "state": {}
     },
     "096e4c222021440e9d80b9c9b98ec0e4": {
      "model_module": "@jupyter-widgets/base",
      "model_module_version": "1.2.0",
      "model_name": "LayoutModel",
      "state": {}
     },
     "0bc5237511d3417a88900eb7d0762e00": {
      "model_module": "@jupyter-widgets/base",
      "model_module_version": "1.2.0",
      "model_name": "LayoutModel",
      "state": {}
     },
     "0bf50bc53f4847298a171528e4d1b70a": {
      "model_module": "@jupyter-widgets/base",
      "model_module_version": "1.2.0",
      "model_name": "LayoutModel",
      "state": {}
     },
     "0cd2eaba8fe945e9b04f9a4d7e9f048e": {
      "model_module": "@jupyter-widgets/base",
      "model_module_version": "1.2.0",
      "model_name": "LayoutModel",
      "state": {}
     },
     "0d1ec2c4c31143fa8be448cb05dd577b": {
      "model_module": "@jupyter-widgets/base",
      "model_module_version": "1.2.0",
      "model_name": "LayoutModel",
      "state": {}
     },
     "0d4a106273cc4388a3e3c6d5040f5120": {
      "model_module": "@jupyter-widgets/controls",
      "model_module_version": "1.5.0",
      "model_name": "HTMLModel",
      "state": {
       "layout": "IPY_MODEL_57ca1bc351fa402cb4641d4f9c9a1744",
       "style": "IPY_MODEL_fddb163365db4cad98380721837b8359",
       "value": " 2157/2615 [03:02&lt;00:38, 11.84it/s]"
      }
     },
     "0d71b12e2dda4961a5478d7d029ce352": {
      "model_module": "@jupyter-widgets/controls",
      "model_module_version": "1.5.0",
      "model_name": "ProgressStyleModel",
      "state": {
       "description_width": "initial"
      }
     },
     "0edd365360324c3abf29d460c1fd583f": {
      "model_module": "@jupyter-widgets/controls",
      "model_module_version": "1.5.0",
      "model_name": "DescriptionStyleModel",
      "state": {
       "description_width": ""
      }
     },
     "0feb0f33b4bf4a4092f8ba0844710642": {
      "model_module": "@jupyter-widgets/base",
      "model_module_version": "1.2.0",
      "model_name": "LayoutModel",
      "state": {}
     },
     "10400bbc9dd940d483a3380ee093f699": {
      "model_module": "@jupyter-widgets/controls",
      "model_module_version": "1.5.0",
      "model_name": "HTMLModel",
      "state": {
       "layout": "IPY_MODEL_ab297b75a4d7470d9188a0c360cbfbb6",
       "style": "IPY_MODEL_c2519cedf13b4440b6dc1a0ec432bf06",
       "value": " 2615/2615 [01:30&lt;00:00, 28.97it/s]"
      }
     },
     "11e2dbb517ad4d1ca8f93451a23640b5": {
      "model_module": "@jupyter-widgets/controls",
      "model_module_version": "1.5.0",
      "model_name": "ProgressStyleModel",
      "state": {
       "description_width": "initial"
      }
     },
     "124d2e8c055c4a9eb4f0f5a0d39ae095": {
      "model_module": "@jupyter-widgets/controls",
      "model_module_version": "1.5.0",
      "model_name": "FloatProgressModel",
      "state": {
       "bar_style": "danger",
       "description": "  3%",
       "layout": "IPY_MODEL_7df2666c267b4d02aee6c968a3f7ce54",
       "max": 6857,
       "style": "IPY_MODEL_0146c073e5c5445fae538c7e2b8df06c",
       "value": 234
      }
     },
     "12c9cfac23e246428da2b0c2ac7e7ba6": {
      "model_module": "@jupyter-widgets/controls",
      "model_module_version": "1.5.0",
      "model_name": "ProgressStyleModel",
      "state": {
       "description_width": "initial"
      }
     },
     "13a32404b2d74828967e468cc3225c6f": {
      "model_module": "@jupyter-widgets/base",
      "model_module_version": "1.2.0",
      "model_name": "LayoutModel",
      "state": {}
     },
     "13c0d964a8da4cae8ee9f3a726562934": {
      "model_module": "@jupyter-widgets/controls",
      "model_module_version": "1.5.0",
      "model_name": "HTMLModel",
      "state": {
       "layout": "IPY_MODEL_2e29a9e6116d46bab276591400d1cbc4",
       "style": "IPY_MODEL_e0a1aaae0353492184122a288b3f3e67",
       "value": " 2615/2615 [04:01&lt;00:00, 10.82it/s]"
      }
     },
     "14cafe9df9b9480787f7a24ca2a7f47f": {
      "model_module": "@jupyter-widgets/controls",
      "model_module_version": "1.5.0",
      "model_name": "ProgressStyleModel",
      "state": {
       "description_width": "initial"
      }
     },
     "14da47ac8ea3449eafaab95c9304f817": {
      "model_module": "@jupyter-widgets/base",
      "model_module_version": "1.2.0",
      "model_name": "LayoutModel",
      "state": {}
     },
     "14ea8d220ef2497fbe2ed48090cb826e": {
      "model_module": "@jupyter-widgets/controls",
      "model_module_version": "1.5.0",
      "model_name": "DescriptionStyleModel",
      "state": {
       "description_width": ""
      }
     },
     "1550744c126745be983d921bad91abb1": {
      "model_module": "@jupyter-widgets/controls",
      "model_module_version": "1.5.0",
      "model_name": "HTMLModel",
      "state": {
       "layout": "IPY_MODEL_faa7909b819249f1bad10605d1af986d",
       "style": "IPY_MODEL_e7a4524731e8425482b7a12d933492e2",
       "value": " 6857/6857 [10:09&lt;00:00, 11.26it/s]"
      }
     },
     "1582b12582524651b04623d4b8b65d23": {
      "model_module": "@jupyter-widgets/controls",
      "model_module_version": "1.5.0",
      "model_name": "HTMLModel",
      "state": {
       "layout": "IPY_MODEL_e73eb49d28fc49ab90f0b30ab57b926d",
       "style": "IPY_MODEL_3bcf534c80074ce38a87833c57ebb847",
       "value": " 0/150 [00:00&lt;?, ?it/s]"
      }
     },
     "15dd28c9726c401d8fda616bceb83fb7": {
      "model_module": "@jupyter-widgets/controls",
      "model_module_version": "1.5.0",
      "model_name": "HTMLModel",
      "state": {
       "layout": "IPY_MODEL_9045587391874059abbf3d3f59b7d9f0",
       "style": "IPY_MODEL_29e80eb8e11d46799fa2254a7232a54d",
       "value": " 2615/2615 [01:07&lt;00:00, 38.88it/s]"
      }
     },
     "1629de7766964361a55f207d33b5aa8d": {
      "model_module": "@jupyter-widgets/base",
      "model_module_version": "1.2.0",
      "model_name": "LayoutModel",
      "state": {}
     },
     "163d3174b6074240a628e84c7b2b588b": {
      "model_module": "@jupyter-widgets/base",
      "model_module_version": "1.2.0",
      "model_name": "LayoutModel",
      "state": {}
     },
     "16494ae37e9245c986e328c8d4fe888f": {
      "model_module": "@jupyter-widgets/controls",
      "model_module_version": "1.5.0",
      "model_name": "HBoxModel",
      "state": {
       "children": [
        "IPY_MODEL_5fbadba6ff484e7b94b588711db9742b",
        "IPY_MODEL_dabb03cb0b704501a239cf0af55a3a7b"
       ],
       "layout": "IPY_MODEL_534ea01e4613493f9f7b8400783990ab"
      }
     },
     "18c4f72e9e74470aa5f73e80b3a723a8": {
      "model_module": "@jupyter-widgets/base",
      "model_module_version": "1.2.0",
      "model_name": "LayoutModel",
      "state": {}
     },
     "18ec34f131794afda7a8efa6713b586e": {
      "model_module": "@jupyter-widgets/base",
      "model_module_version": "1.2.0",
      "model_name": "LayoutModel",
      "state": {}
     },
     "190c75982dd6405ca8df7d7db78c026d": {
      "model_module": "@jupyter-widgets/controls",
      "model_module_version": "1.5.0",
      "model_name": "HBoxModel",
      "state": {
       "children": [
        "IPY_MODEL_2f5249af0bd44621931c13531f88bd44",
        "IPY_MODEL_622d576ec8354b558ebaf59b59d2c3cf"
       ],
       "layout": "IPY_MODEL_f84852c4e9604f68bc5adde28314e83e"
      }
     },
     "1b37835de1724c2d8a1cf80e0f6185ba": {
      "model_module": "@jupyter-widgets/controls",
      "model_module_version": "1.5.0",
      "model_name": "FloatProgressModel",
      "state": {
       "bar_style": "success",
       "description": "100%",
       "layout": "IPY_MODEL_bff86ef295264da0ac1d15b3830124ac",
       "max": 2615,
       "style": "IPY_MODEL_1dc3cdf7cae949eea776934b790f81ec",
       "value": 2615
      }
     },
     "1b6c23c026794fa9bda9ef0008cd4f47": {
      "model_module": "@jupyter-widgets/base",
      "model_module_version": "1.2.0",
      "model_name": "LayoutModel",
      "state": {}
     },
     "1baac52be00644d489bccab409903793": {
      "model_module": "@jupyter-widgets/controls",
      "model_module_version": "1.5.0",
      "model_name": "HBoxModel",
      "state": {
       "children": [
        "IPY_MODEL_86f648ba760f47a8a7832f7d4253bd64",
        "IPY_MODEL_872da3cdd645405093546cf6a8c2247c"
       ],
       "layout": "IPY_MODEL_60fa9501fcb644498a510f449e5688b7"
      }
     },
     "1d055e100d214e7980d2cffccf0f992a": {
      "model_module": "@jupyter-widgets/controls",
      "model_module_version": "1.5.0",
      "model_name": "DescriptionStyleModel",
      "state": {
       "description_width": ""
      }
     },
     "1d9888c41c264f56bd09bf27be7f7480": {
      "model_module": "@jupyter-widgets/controls",
      "model_module_version": "1.5.0",
      "model_name": "DescriptionStyleModel",
      "state": {
       "description_width": ""
      }
     },
     "1db20480fa8e4b3b947a474cd0aa812c": {
      "model_module": "@jupyter-widgets/base",
      "model_module_version": "1.2.0",
      "model_name": "LayoutModel",
      "state": {}
     },
     "1dc3cdf7cae949eea776934b790f81ec": {
      "model_module": "@jupyter-widgets/controls",
      "model_module_version": "1.5.0",
      "model_name": "ProgressStyleModel",
      "state": {
       "description_width": "initial"
      }
     },
     "1fe7c8f88c7b4dcf85d4d03cf8d68520": {
      "model_module": "@jupyter-widgets/controls",
      "model_module_version": "1.5.0",
      "model_name": "HBoxModel",
      "state": {
       "children": [
        "IPY_MODEL_a353bb4a1b0c4f9fa44460cc376c426e",
        "IPY_MODEL_0d4a106273cc4388a3e3c6d5040f5120"
       ],
       "layout": "IPY_MODEL_d22b4d977f1d4cd895d84fd0c7cddf1e"
      }
     },
     "20c47d894a5c4aa485fa1ea8cc676c38": {
      "model_module": "@jupyter-widgets/controls",
      "model_module_version": "1.5.0",
      "model_name": "HTMLModel",
      "state": {
       "layout": "IPY_MODEL_faed7d834aa74f548f3e9d47c432eb30",
       "style": "IPY_MODEL_14ea8d220ef2497fbe2ed48090cb826e",
       "value": " 0/150 [00:01&lt;?, ?it/s]"
      }
     },
     "21c961a8cfa44b7da6bade14a3485d9d": {
      "model_module": "@jupyter-widgets/controls",
      "model_module_version": "1.5.0",
      "model_name": "HBoxModel",
      "state": {
       "children": [
        "IPY_MODEL_584dfcb5ed78463a956daa1094946bc6",
        "IPY_MODEL_1550744c126745be983d921bad91abb1"
       ],
       "layout": "IPY_MODEL_e90051c24d604190ac7f73865420b253"
      }
     },
     "22c7075a70114fca903110d449a2aefe": {
      "model_module": "@jupyter-widgets/base",
      "model_module_version": "1.2.0",
      "model_name": "LayoutModel",
      "state": {}
     },
     "238ef5024614453ca7c2e8a2f10bba22": {
      "model_module": "@jupyter-widgets/controls",
      "model_module_version": "1.5.0",
      "model_name": "ProgressStyleModel",
      "state": {
       "description_width": "initial"
      }
     },
     "2426bc3751b84666a960634abbdabe2b": {
      "model_module": "@jupyter-widgets/controls",
      "model_module_version": "1.5.0",
      "model_name": "FloatProgressModel",
      "state": {
       "bar_style": "success",
       "description": "100%",
       "layout": "IPY_MODEL_0266d84fc2574535a6e8a961d15c2146",
       "max": 443,
       "style": "IPY_MODEL_db759c38944040fa8b37ab20ac109beb",
       "value": 443
      }
     },
     "2506599dcc3a4deebde2d0406c06d925": {
      "model_module": "@jupyter-widgets/controls",
      "model_module_version": "1.5.0",
      "model_name": "ProgressStyleModel",
      "state": {
       "description_width": "initial"
      }
     },
     "255c568dd78540a7917da20fd71513eb": {
      "model_module": "@jupyter-widgets/base",
      "model_module_version": "1.2.0",
      "model_name": "LayoutModel",
      "state": {}
     },
     "2583b47a38f44e82b45843b015c99fc3": {
      "model_module": "@jupyter-widgets/controls",
      "model_module_version": "1.5.0",
      "model_name": "HTMLModel",
      "state": {
       "layout": "IPY_MODEL_311e29948e304960b0832478162389ea",
       "style": "IPY_MODEL_714d2eaf2beb450da5a53ce4740970f3",
       "value": " 6857/6857 [16:04&lt;00:00,  7.11it/s]"
      }
     },
     "25bc577be53a46c79d9448a96739be9f": {
      "model_module": "@jupyter-widgets/base",
      "model_module_version": "1.2.0",
      "model_name": "LayoutModel",
      "state": {}
     },
     "262605b100d345fea2b8f0df8d9d3bb5": {
      "model_module": "@jupyter-widgets/controls",
      "model_module_version": "1.5.0",
      "model_name": "ProgressStyleModel",
      "state": {
       "description_width": "initial"
      }
     },
     "2722cf45ce5c41f3934bcc22005e8c39": {
      "model_module": "@jupyter-widgets/base",
      "model_module_version": "1.2.0",
      "model_name": "LayoutModel",
      "state": {}
     },
     "278d7eafa7464a8d91c1bc4b453a19c6": {
      "model_module": "@jupyter-widgets/controls",
      "model_module_version": "1.5.0",
      "model_name": "ProgressStyleModel",
      "state": {
       "description_width": "initial"
      }
     },
     "279f2c58f5c340069d89b79c4b6c3ad0": {
      "model_module": "@jupyter-widgets/controls",
      "model_module_version": "1.5.0",
      "model_name": "ProgressStyleModel",
      "state": {
       "description_width": "initial"
      }
     },
     "29203e08d2bb4f4eb0bca7163dd80809": {
      "model_module": "@jupyter-widgets/controls",
      "model_module_version": "1.5.0",
      "model_name": "HBoxModel",
      "state": {
       "children": [
        "IPY_MODEL_37c0dbc413c04708afc333f7ebfc479a",
        "IPY_MODEL_6ef510165e43432b98aa72d828bf5676"
       ],
       "layout": "IPY_MODEL_5b86d1db5851407cb71472888233ace1"
      }
     },
     "29e80eb8e11d46799fa2254a7232a54d": {
      "model_module": "@jupyter-widgets/controls",
      "model_module_version": "1.5.0",
      "model_name": "DescriptionStyleModel",
      "state": {
       "description_width": ""
      }
     },
     "29eaa93286e642e3a18994311e333c68": {
      "model_module": "@jupyter-widgets/controls",
      "model_module_version": "1.5.0",
      "model_name": "FloatProgressModel",
      "state": {
       "bar_style": "success",
       "description": "100%",
       "layout": "IPY_MODEL_333d318ee129421fb8ba17b0afd0fb5b",
       "max": 687,
       "style": "IPY_MODEL_75d35a9e549c4eec95a02a44c731a75e",
       "value": 687
      }
     },
     "2b4f9cac58dc4d39939287f607ef7df1": {
      "model_module": "@jupyter-widgets/base",
      "model_module_version": "1.2.0",
      "model_name": "LayoutModel",
      "state": {}
     },
     "2c6648cd86b241e1a52985eae504d63d": {
      "model_module": "@jupyter-widgets/base",
      "model_module_version": "1.2.0",
      "model_name": "LayoutModel",
      "state": {}
     },
     "2c8ebf9fc37f46499fe13c2cecf474f7": {
      "model_module": "@jupyter-widgets/base",
      "model_module_version": "1.2.0",
      "model_name": "LayoutModel",
      "state": {}
     },
     "2df8b417928f4d1bafe7dcb3b0be527d": {
      "model_module": "@jupyter-widgets/controls",
      "model_module_version": "1.5.0",
      "model_name": "FloatProgressModel",
      "state": {
       "bar_style": "success",
       "description": "100%",
       "layout": "IPY_MODEL_99385b3b48d3456dbf3df7328f1a62ce",
       "max": 2615,
       "style": "IPY_MODEL_6bff94225d36451e952014dfd76f7ce6",
       "value": 2615
      }
     },
     "2e29a9e6116d46bab276591400d1cbc4": {
      "model_module": "@jupyter-widgets/base",
      "model_module_version": "1.2.0",
      "model_name": "LayoutModel",
      "state": {}
     },
     "2e806014412b4c9eb9b2b17488c3f154": {
      "model_module": "@jupyter-widgets/controls",
      "model_module_version": "1.5.0",
      "model_name": "FloatProgressModel",
      "state": {
       "bar_style": "success",
       "description": "100%",
       "layout": "IPY_MODEL_7b1ac8cde68b46c0bb68902f42fa04b3",
       "max": 150,
       "style": "IPY_MODEL_5870164b01fc487281a79ee02619c3e5",
       "value": 150
      }
     },
     "2f5249af0bd44621931c13531f88bd44": {
      "model_module": "@jupyter-widgets/controls",
      "model_module_version": "1.5.0",
      "model_name": "FloatProgressModel",
      "state": {
       "description": " 29%",
       "layout": "IPY_MODEL_730e6a4a72c2424b9c00d1fa2f649d8b",
       "max": 6857,
       "style": "IPY_MODEL_238ef5024614453ca7c2e8a2f10bba22",
       "value": 1976
      }
     },
     "3012a3bae3374d65b1a58b4ed7931575": {
      "model_module": "@jupyter-widgets/controls",
      "model_module_version": "1.5.0",
      "model_name": "ProgressStyleModel",
      "state": {
       "description_width": "initial"
      }
     },
     "311e29948e304960b0832478162389ea": {
      "model_module": "@jupyter-widgets/base",
      "model_module_version": "1.2.0",
      "model_name": "LayoutModel",
      "state": {}
     },
     "32f2d7accdfa442ab39427e1d204cfbd": {
      "model_module": "@jupyter-widgets/controls",
      "model_module_version": "1.5.0",
      "model_name": "HBoxModel",
      "state": {
       "children": [
        "IPY_MODEL_1b37835de1724c2d8a1cf80e0f6185ba",
        "IPY_MODEL_10400bbc9dd940d483a3380ee093f699"
       ],
       "layout": "IPY_MODEL_18ec34f131794afda7a8efa6713b586e"
      }
     },
     "333d318ee129421fb8ba17b0afd0fb5b": {
      "model_module": "@jupyter-widgets/base",
      "model_module_version": "1.2.0",
      "model_name": "LayoutModel",
      "state": {}
     },
     "34edb834ad2843bfae0aaad0121b6c7a": {
      "model_module": "@jupyter-widgets/base",
      "model_module_version": "1.2.0",
      "model_name": "LayoutModel",
      "state": {}
     },
     "365532800cd54294bfb7b394fb7fdc09": {
      "model_module": "@jupyter-widgets/controls",
      "model_module_version": "1.5.0",
      "model_name": "DescriptionStyleModel",
      "state": {
       "description_width": ""
      }
     },
     "371934ec80c74e918c3faeb7486e5fd0": {
      "model_module": "@jupyter-widgets/controls",
      "model_module_version": "1.5.0",
      "model_name": "HBoxModel",
      "state": {
       "children": [
        "IPY_MODEL_b59214b3999449c7adfa416bfd8dc424",
        "IPY_MODEL_48d5c402ef9e4af3a5618ee5bcb2f5b7"
       ],
       "layout": "IPY_MODEL_08dac99e4082424fb07b2f78b0782d6a"
      }
     },
     "379393da3ede4b2ca9ec7090067484d7": {
      "model_module": "@jupyter-widgets/controls",
      "model_module_version": "1.5.0",
      "model_name": "FloatProgressModel",
      "state": {
       "bar_style": "success",
       "description": "100%",
       "layout": "IPY_MODEL_86f369c17380431f8e2a0e8cec1fd58e",
       "max": 2615,
       "style": "IPY_MODEL_fd243ed6e9df419a9b183fc13539a4a1",
       "value": 2615
      }
     },
     "37c0dbc413c04708afc333f7ebfc479a": {
      "model_module": "@jupyter-widgets/controls",
      "model_module_version": "1.5.0",
      "model_name": "FloatProgressModel",
      "state": {
       "bar_style": "success",
       "description": "100%",
       "layout": "IPY_MODEL_04d2117274454d659a62b8dee2370ed8",
       "max": 2615,
       "style": "IPY_MODEL_262605b100d345fea2b8f0df8d9d3bb5",
       "value": 2615
      }
     },
     "389e76b042934a07b5011a017f1e46ae": {
      "model_module": "@jupyter-widgets/controls",
      "model_module_version": "1.5.0",
      "model_name": "DescriptionStyleModel",
      "state": {
       "description_width": ""
      }
     },
     "3a5ee8f145d64b9ba3d81bf62fbbce65": {
      "model_module": "@jupyter-widgets/base",
      "model_module_version": "1.2.0",
      "model_name": "LayoutModel",
      "state": {}
     },
     "3a89224523434f99958cac1646ee1d30": {
      "model_module": "@jupyter-widgets/controls",
      "model_module_version": "1.5.0",
      "model_name": "DescriptionStyleModel",
      "state": {
       "description_width": ""
      }
     },
     "3baa77131cfc4a8bb9f262f82962cb50": {
      "model_module": "@jupyter-widgets/controls",
      "model_module_version": "1.5.0",
      "model_name": "ProgressStyleModel",
      "state": {
       "description_width": "initial"
      }
     },
     "3bcf534c80074ce38a87833c57ebb847": {
      "model_module": "@jupyter-widgets/controls",
      "model_module_version": "1.5.0",
      "model_name": "DescriptionStyleModel",
      "state": {
       "description_width": ""
      }
     },
     "3c3d0b5e7cfb44d68ee56d1fb46e7b23": {
      "model_module": "@jupyter-widgets/base",
      "model_module_version": "1.2.0",
      "model_name": "LayoutModel",
      "state": {}
     },
     "3cf8d5f9d81447b09f2b1c531fd87ab0": {
      "model_module": "@jupyter-widgets/controls",
      "model_module_version": "1.5.0",
      "model_name": "ProgressStyleModel",
      "state": {
       "description_width": "initial"
      }
     },
     "3f5007479f7b4068be71b4a48b5e3f01": {
      "model_module": "@jupyter-widgets/base",
      "model_module_version": "1.2.0",
      "model_name": "LayoutModel",
      "state": {}
     },
     "3fe2ec065991414a8a8129ca08944b93": {
      "model_module": "@jupyter-widgets/controls",
      "model_module_version": "1.5.0",
      "model_name": "FloatProgressModel",
      "state": {
       "bar_style": "success",
       "description": "100%",
       "layout": "IPY_MODEL_007eb204f0a94cd28e06ee0eb297edb7",
       "max": 150,
       "style": "IPY_MODEL_6322eb68a991401288c4175fc25c64d1",
       "value": 150
      }
     },
     "4006945902374d22965778229328d3ea": {
      "model_module": "@jupyter-widgets/controls",
      "model_module_version": "1.5.0",
      "model_name": "HTMLModel",
      "state": {
       "layout": "IPY_MODEL_d6e4b2f452cc40769df65f25f0118a1d",
       "style": "IPY_MODEL_b253d644cbc74594a8c7eaf1d9ecc3d9",
       "value": " 619/6857 [02:53&lt;29:04,  3.58it/s]"
      }
     },
     "4013e85601da44d394784f37cdef4ee2": {
      "model_module": "@jupyter-widgets/base",
      "model_module_version": "1.2.0",
      "model_name": "LayoutModel",
      "state": {}
     },
     "41edc5f0a8c34c1b90a5f82da4bd356e": {
      "model_module": "@jupyter-widgets/base",
      "model_module_version": "1.2.0",
      "model_name": "LayoutModel",
      "state": {}
     },
     "426615e9ce664e38936dace2148223c5": {
      "model_module": "@jupyter-widgets/base",
      "model_module_version": "1.2.0",
      "model_name": "LayoutModel",
      "state": {}
     },
     "4427568f83e5451f82d82c3588ed6502": {
      "model_module": "@jupyter-widgets/controls",
      "model_module_version": "1.5.0",
      "model_name": "FloatProgressModel",
      "state": {
       "bar_style": "danger",
       "description": "  0%",
       "layout": "IPY_MODEL_04f6b29e29b44f9d94499d6938a727d3",
       "max": 6857,
       "style": "IPY_MODEL_ef2199d584f945ad820058fe54dc6217"
      }
     },
     "44a3d3ab73d04f6b9d90fbecbcf75dc4": {
      "model_module": "@jupyter-widgets/base",
      "model_module_version": "1.2.0",
      "model_name": "LayoutModel",
      "state": {}
     },
     "473035e3a52c4ab59168990c0dad1569": {
      "model_module": "@jupyter-widgets/controls",
      "model_module_version": "1.5.0",
      "model_name": "FloatProgressModel",
      "state": {
       "bar_style": "danger",
       "description": "  0%",
       "layout": "IPY_MODEL_9652904f062e4a99812a2d693e5c8def",
       "max": 150,
       "style": "IPY_MODEL_2506599dcc3a4deebde2d0406c06d925"
      }
     },
     "4811176b63af495394953a223ec3f459": {
      "model_module": "@jupyter-widgets/base",
      "model_module_version": "1.2.0",
      "model_name": "LayoutModel",
      "state": {}
     },
     "48d5c402ef9e4af3a5618ee5bcb2f5b7": {
      "model_module": "@jupyter-widgets/controls",
      "model_module_version": "1.5.0",
      "model_name": "HTMLModel",
      "state": {
       "layout": "IPY_MODEL_b677c282a65a4a5d8bc5c5d61c3f3389",
       "style": "IPY_MODEL_389e76b042934a07b5011a017f1e46ae",
       "value": " 687/687 [00:51&lt;00:00, 13.46it/s]"
      }
     },
     "4aaa8e811e8c4cba87dcf746ff1f2cb7": {
      "model_module": "@jupyter-widgets/controls",
      "model_module_version": "1.5.0",
      "model_name": "HBoxModel",
      "state": {
       "children": [
        "IPY_MODEL_ad2b2db4e4bf418a8e5cac99f2fb84c9",
        "IPY_MODEL_a9964e24efdf4e83b7dc09514cb1952c"
       ],
       "layout": "IPY_MODEL_adb16b5693344179ba84b56830de72bb"
      }
     },
     "4bbb4532a62d4718a41d70f61cd237fe": {
      "model_module": "@jupyter-widgets/controls",
      "model_module_version": "1.5.0",
      "model_name": "FloatProgressModel",
      "state": {
       "bar_style": "success",
       "description": "100%",
       "layout": "IPY_MODEL_5ce8b6e5528441a5a9d087d26b1328dd",
       "max": 2615,
       "style": "IPY_MODEL_c254c835d3f341419450547b190d505c",
       "value": 2615
      }
     },
     "4c156ef95d424f218461668ea249c0fb": {
      "model_module": "@jupyter-widgets/controls",
      "model_module_version": "1.5.0",
      "model_name": "FloatProgressModel",
      "state": {
       "bar_style": "success",
       "description": "100%",
       "layout": "IPY_MODEL_41edc5f0a8c34c1b90a5f82da4bd356e",
       "max": 687,
       "style": "IPY_MODEL_279f2c58f5c340069d89b79c4b6c3ad0",
       "value": 687
      }
     },
     "4d1952846ca7403f95741d0867da489a": {
      "model_module": "@jupyter-widgets/base",
      "model_module_version": "1.2.0",
      "model_name": "LayoutModel",
      "state": {}
     },
     "4da09ee4932742809ff5a3a04afadd34": {
      "model_module": "@jupyter-widgets/controls",
      "model_module_version": "1.5.0",
      "model_name": "FloatProgressModel",
      "state": {
       "bar_style": "danger",
       "description": "  0%",
       "layout": "IPY_MODEL_4f6910d4f7dd44d2ae9d8c5601ad3214",
       "max": 150,
       "style": "IPY_MODEL_3cf8d5f9d81447b09f2b1c531fd87ab0"
      }
     },
     "4f6910d4f7dd44d2ae9d8c5601ad3214": {
      "model_module": "@jupyter-widgets/base",
      "model_module_version": "1.2.0",
      "model_name": "LayoutModel",
      "state": {}
     },
     "50da1e1379e24e1c968440bbd39c999a": {
      "model_module": "@jupyter-widgets/controls",
      "model_module_version": "1.5.0",
      "model_name": "FloatProgressModel",
      "state": {
       "bar_style": "success",
       "description": "100%",
       "layout": "IPY_MODEL_861cb6b488274995abd685000c54bf8e",
       "max": 150,
       "style": "IPY_MODEL_6eef8c21adc744e09ba01456cf6eb263",
       "value": 150
      }
     },
     "51d466ab04444be4874c9fdc71f0e70a": {
      "model_module": "@jupyter-widgets/base",
      "model_module_version": "1.2.0",
      "model_name": "LayoutModel",
      "state": {}
     },
     "534ea01e4613493f9f7b8400783990ab": {
      "model_module": "@jupyter-widgets/base",
      "model_module_version": "1.2.0",
      "model_name": "LayoutModel",
      "state": {}
     },
     "552bbc92c194412f884c2b78a555e65a": {
      "model_module": "@jupyter-widgets/base",
      "model_module_version": "1.2.0",
      "model_name": "LayoutModel",
      "state": {}
     },
     "569e1fd5eeb842cc9a124897ee68f9c1": {
      "model_module": "@jupyter-widgets/controls",
      "model_module_version": "1.5.0",
      "model_name": "HTMLModel",
      "state": {
       "layout": "IPY_MODEL_afc9ca8d309e40019b47e7b4df668afb",
       "style": "IPY_MODEL_3a89224523434f99958cac1646ee1d30",
       "value": " 687/687 [00:50&lt;00:00, 13.61it/s]"
      }
     },
     "57ca1bc351fa402cb4641d4f9c9a1744": {
      "model_module": "@jupyter-widgets/base",
      "model_module_version": "1.2.0",
      "model_name": "LayoutModel",
      "state": {}
     },
     "57dbf948c49e4234b2592f0dc682839c": {
      "model_module": "@jupyter-widgets/controls",
      "model_module_version": "1.5.0",
      "model_name": "ProgressStyleModel",
      "state": {
       "description_width": "initial"
      }
     },
     "584dfcb5ed78463a956daa1094946bc6": {
      "model_module": "@jupyter-widgets/controls",
      "model_module_version": "1.5.0",
      "model_name": "FloatProgressModel",
      "state": {
       "bar_style": "success",
       "description": "100%",
       "layout": "IPY_MODEL_74f86dae11b34ba8af0a00c37ba21053",
       "max": 6857,
       "style": "IPY_MODEL_66fe198920fe464e84e7acfd68165537",
       "value": 6857
      }
     },
     "5870164b01fc487281a79ee02619c3e5": {
      "model_module": "@jupyter-widgets/controls",
      "model_module_version": "1.5.0",
      "model_name": "ProgressStyleModel",
      "state": {
       "description_width": "initial"
      }
     },
     "5aabb77dec45451fa512fc4ae88f22df": {
      "model_module": "@jupyter-widgets/controls",
      "model_module_version": "1.5.0",
      "model_name": "FloatProgressModel",
      "state": {
       "bar_style": "danger",
       "description": " 22%",
       "layout": "IPY_MODEL_4811176b63af495394953a223ec3f459",
       "max": 2615,
       "style": "IPY_MODEL_0d71b12e2dda4961a5478d7d029ce352",
       "value": 569
      }
     },
     "5b86d1db5851407cb71472888233ace1": {
      "model_module": "@jupyter-widgets/base",
      "model_module_version": "1.2.0",
      "model_name": "LayoutModel",
      "state": {}
     },
     "5ce8b6e5528441a5a9d087d26b1328dd": {
      "model_module": "@jupyter-widgets/base",
      "model_module_version": "1.2.0",
      "model_name": "LayoutModel",
      "state": {}
     },
     "5ea298e2e4c64dd19d7def774f295688": {
      "model_module": "@jupyter-widgets/base",
      "model_module_version": "1.2.0",
      "model_name": "LayoutModel",
      "state": {}
     },
     "5f77359f2912483cb10923af926b17f4": {
      "model_module": "@jupyter-widgets/base",
      "model_module_version": "1.2.0",
      "model_name": "LayoutModel",
      "state": {}
     },
     "5fbadba6ff484e7b94b588711db9742b": {
      "model_module": "@jupyter-widgets/controls",
      "model_module_version": "1.5.0",
      "model_name": "FloatProgressModel",
      "state": {
       "bar_style": "success",
       "description": "100%",
       "layout": "IPY_MODEL_4d1952846ca7403f95741d0867da489a",
       "max": 2615,
       "style": "IPY_MODEL_f4bc3ca2209c4b5f980261db1dfd2753",
       "value": 2615
      }
     },
     "60554d27491446bc853442c8015b2556": {
      "model_module": "@jupyter-widgets/controls",
      "model_module_version": "1.5.0",
      "model_name": "HBoxModel",
      "state": {
       "children": [
        "IPY_MODEL_e85c84e37389448aa309899b48d52c6a",
        "IPY_MODEL_e0836d825743464f81044a159560b7b3"
       ],
       "layout": "IPY_MODEL_8b34f235c82d4fc4a5a28e520ab50449"
      }
     },
     "6085a91849b94657aa0423fafe42c2cf": {
      "model_module": "@jupyter-widgets/controls",
      "model_module_version": "1.5.0",
      "model_name": "HBoxModel",
      "state": {
       "children": [
        "IPY_MODEL_4c156ef95d424f218461668ea249c0fb",
        "IPY_MODEL_9f8566d4c0d742c1b65f12b3bea4fb19"
       ],
       "layout": "IPY_MODEL_d1e2caebc4574e7e8539e6f0c75d4e4f"
      }
     },
     "60fa9501fcb644498a510f449e5688b7": {
      "model_module": "@jupyter-widgets/base",
      "model_module_version": "1.2.0",
      "model_name": "LayoutModel",
      "state": {}
     },
     "6124b8baae9249fd936159ab3e10d203": {
      "model_module": "@jupyter-widgets/controls",
      "model_module_version": "1.5.0",
      "model_name": "ProgressStyleModel",
      "state": {
       "description_width": "initial"
      }
     },
     "622d576ec8354b558ebaf59b59d2c3cf": {
      "model_module": "@jupyter-widgets/controls",
      "model_module_version": "1.5.0",
      "model_name": "HTMLModel",
      "state": {
       "layout": "IPY_MODEL_22c7075a70114fca903110d449a2aefe",
       "style": "IPY_MODEL_08cbec5696124729a9de81c44e9ecc42",
       "value": " 1976/6857 [03:01&lt;06:10, 13.18it/s]"
      }
     },
     "62a94bd339d84d7d8ed0547173dd4090": {
      "model_module": "@jupyter-widgets/controls",
      "model_module_version": "1.5.0",
      "model_name": "DescriptionStyleModel",
      "state": {
       "description_width": ""
      }
     },
     "62af47c2cb2d4e148cb9b22e6a9f0aea": {
      "model_module": "@jupyter-widgets/controls",
      "model_module_version": "1.5.0",
      "model_name": "ProgressStyleModel",
      "state": {
       "description_width": "initial"
      }
     },
     "6322eb68a991401288c4175fc25c64d1": {
      "model_module": "@jupyter-widgets/controls",
      "model_module_version": "1.5.0",
      "model_name": "ProgressStyleModel",
      "state": {
       "description_width": "initial"
      }
     },
     "6424dbe3681841c9bba1d0b6b468d62d": {
      "model_module": "@jupyter-widgets/base",
      "model_module_version": "1.2.0",
      "model_name": "LayoutModel",
      "state": {}
     },
     "64466537e5bc4faab2d0d59264a4d910": {
      "model_module": "@jupyter-widgets/controls",
      "model_module_version": "1.5.0",
      "model_name": "ProgressStyleModel",
      "state": {
       "description_width": "initial"
      }
     },
     "66ac22bf84f3457898cc988fabeaaf80": {
      "model_module": "@jupyter-widgets/base",
      "model_module_version": "1.2.0",
      "model_name": "LayoutModel",
      "state": {}
     },
     "66fe198920fe464e84e7acfd68165537": {
      "model_module": "@jupyter-widgets/controls",
      "model_module_version": "1.5.0",
      "model_name": "ProgressStyleModel",
      "state": {
       "description_width": "initial"
      }
     },
     "6737ab092f2647b6b8da77ad968ca0d9": {
      "model_module": "@jupyter-widgets/base",
      "model_module_version": "1.2.0",
      "model_name": "LayoutModel",
      "state": {}
     },
     "684fafc6b5a34193a89a4364431751c1": {
      "model_module": "@jupyter-widgets/controls",
      "model_module_version": "1.5.0",
      "model_name": "ProgressStyleModel",
      "state": {
       "description_width": "initial"
      }
     },
     "69a81927b46b459fb92199e61808b90d": {
      "model_module": "@jupyter-widgets/controls",
      "model_module_version": "1.5.0",
      "model_name": "HBoxModel",
      "state": {
       "children": [
        "IPY_MODEL_50da1e1379e24e1c968440bbd39c999a",
        "IPY_MODEL_7008095e62f24dd68c5f32fd9e3b9d86"
       ],
       "layout": "IPY_MODEL_44a3d3ab73d04f6b9d90fbecbcf75dc4"
      }
     },
     "69b042d4aa664d7d805613d08e8a322f": {
      "model_module": "@jupyter-widgets/controls",
      "model_module_version": "1.5.0",
      "model_name": "DescriptionStyleModel",
      "state": {
       "description_width": ""
      }
     },
     "6bff94225d36451e952014dfd76f7ce6": {
      "model_module": "@jupyter-widgets/controls",
      "model_module_version": "1.5.0",
      "model_name": "ProgressStyleModel",
      "state": {
       "description_width": "initial"
      }
     },
     "6c89ccb1ae094d46ab9d25494236ffa8": {
      "model_module": "@jupyter-widgets/base",
      "model_module_version": "1.2.0",
      "model_name": "LayoutModel",
      "state": {}
     },
     "6cb20115153244f2804ea3807222f2f8": {
      "model_module": "@jupyter-widgets/base",
      "model_module_version": "1.2.0",
      "model_name": "LayoutModel",
      "state": {}
     },
     "6eef8c21adc744e09ba01456cf6eb263": {
      "model_module": "@jupyter-widgets/controls",
      "model_module_version": "1.5.0",
      "model_name": "ProgressStyleModel",
      "state": {
       "description_width": "initial"
      }
     },
     "6ef510165e43432b98aa72d828bf5676": {
      "model_module": "@jupyter-widgets/controls",
      "model_module_version": "1.5.0",
      "model_name": "HTMLModel",
      "state": {
       "layout": "IPY_MODEL_c83f66dd4d10417ab3729f0b05e85cb7",
       "style": "IPY_MODEL_b1fd0a0eef044e729efc71c89c75b8af",
       "value": " 2615/2615 [03:48&lt;00:00, 11.45it/s]"
      }
     },
     "6f720902425b4909902859ae8943820d": {
      "model_module": "@jupyter-widgets/controls",
      "model_module_version": "1.5.0",
      "model_name": "HTMLModel",
      "state": {
       "layout": "IPY_MODEL_eb811b1657d74a93931231770ea4ec7f",
       "style": "IPY_MODEL_08785f0c0afd48c9ac95403bfe1a35e5",
       "value": " 2615/2615 [03:56&lt;00:00, 11.07it/s]"
      }
     },
     "7008095e62f24dd68c5f32fd9e3b9d86": {
      "model_module": "@jupyter-widgets/controls",
      "model_module_version": "1.5.0",
      "model_name": "HTMLModel",
      "state": {
       "layout": "IPY_MODEL_426615e9ce664e38936dace2148223c5",
       "style": "IPY_MODEL_ed4001b7b0084495a9d4e7cf442274af",
       "value": " 150/150 [00:29&lt;00:00,  5.07it/s]"
      }
     },
     "7069e7ef2e3c47deb94763f94bf51b56": {
      "model_module": "@jupyter-widgets/controls",
      "model_module_version": "1.5.0",
      "model_name": "HBoxModel",
      "state": {
       "children": [
        "IPY_MODEL_473035e3a52c4ab59168990c0dad1569",
        "IPY_MODEL_d5d5036ed52c47c3b8fa1396dc8fe2f4"
       ],
       "layout": "IPY_MODEL_76bb69e481094ec183b1f780bcf3cfcd"
      }
     },
     "708b6ea4b4294194a8819e73c180116f": {
      "model_module": "@jupyter-widgets/base",
      "model_module_version": "1.2.0",
      "model_name": "LayoutModel",
      "state": {}
     },
     "714d2eaf2beb450da5a53ce4740970f3": {
      "model_module": "@jupyter-widgets/controls",
      "model_module_version": "1.5.0",
      "model_name": "DescriptionStyleModel",
      "state": {
       "description_width": ""
      }
     },
     "719477c3734c44daa65089a99dadb125": {
      "model_module": "@jupyter-widgets/base",
      "model_module_version": "1.2.0",
      "model_name": "LayoutModel",
      "state": {}
     },
     "7207e8cf116f4cf59d6be3966d9166f4": {
      "model_module": "@jupyter-widgets/controls",
      "model_module_version": "1.5.0",
      "model_name": "FloatProgressModel",
      "state": {
       "bar_style": "danger",
       "description": " 10%",
       "layout": "IPY_MODEL_c7e8d830ec6e448ea0c26a0d579579f9",
       "max": 2615,
       "style": "IPY_MODEL_62af47c2cb2d4e148cb9b22e6a9f0aea",
       "value": 261
      }
     },
     "728fddce67954925a51ebc72463704ae": {
      "model_module": "@jupyter-widgets/controls",
      "model_module_version": "1.5.0",
      "model_name": "FloatProgressModel",
      "state": {
       "bar_style": "success",
       "description": "100%",
       "layout": "IPY_MODEL_552bbc92c194412f884c2b78a555e65a",
       "max": 2615,
       "style": "IPY_MODEL_278d7eafa7464a8d91c1bc4b453a19c6",
       "value": 2615
      }
     },
     "730e6a4a72c2424b9c00d1fa2f649d8b": {
      "model_module": "@jupyter-widgets/base",
      "model_module_version": "1.2.0",
      "model_name": "LayoutModel",
      "state": {}
     },
     "74ed71e220254fcb972c0963154ea316": {
      "model_module": "@jupyter-widgets/controls",
      "model_module_version": "1.5.0",
      "model_name": "DescriptionStyleModel",
      "state": {
       "description_width": ""
      }
     },
     "74f86dae11b34ba8af0a00c37ba21053": {
      "model_module": "@jupyter-widgets/base",
      "model_module_version": "1.2.0",
      "model_name": "LayoutModel",
      "state": {}
     },
     "75d35a9e549c4eec95a02a44c731a75e": {
      "model_module": "@jupyter-widgets/controls",
      "model_module_version": "1.5.0",
      "model_name": "ProgressStyleModel",
      "state": {
       "description_width": "initial"
      }
     },
     "76bb69e481094ec183b1f780bcf3cfcd": {
      "model_module": "@jupyter-widgets/base",
      "model_module_version": "1.2.0",
      "model_name": "LayoutModel",
      "state": {}
     },
     "797c1d13cf8d4343877fd378703b56d3": {
      "model_module": "@jupyter-widgets/base",
      "model_module_version": "1.2.0",
      "model_name": "LayoutModel",
      "state": {}
     },
     "7b1ac8cde68b46c0bb68902f42fa04b3": {
      "model_module": "@jupyter-widgets/base",
      "model_module_version": "1.2.0",
      "model_name": "LayoutModel",
      "state": {}
     },
     "7dc0d5fbdd114cd4b1839b46e64dbd72": {
      "model_module": "@jupyter-widgets/controls",
      "model_module_version": "1.5.0",
      "model_name": "HBoxModel",
      "state": {
       "children": [
        "IPY_MODEL_86a92741396a42cba47c59cfa828b474",
        "IPY_MODEL_1582b12582524651b04623d4b8b65d23"
       ],
       "layout": "IPY_MODEL_b30a86aad2ba4ba68bb53db46fad4e14"
      }
     },
     "7dc2e150d1c74ced812d69730fa0da5d": {
      "model_module": "@jupyter-widgets/controls",
      "model_module_version": "1.5.0",
      "model_name": "DescriptionStyleModel",
      "state": {
       "description_width": ""
      }
     },
     "7dd926a7ca0241488b0bd9f59097058e": {
      "model_module": "@jupyter-widgets/base",
      "model_module_version": "1.2.0",
      "model_name": "LayoutModel",
      "state": {}
     },
     "7decbac80878434ba95ec7630e016c84": {
      "model_module": "@jupyter-widgets/base",
      "model_module_version": "1.2.0",
      "model_name": "LayoutModel",
      "state": {}
     },
     "7df2666c267b4d02aee6c968a3f7ce54": {
      "model_module": "@jupyter-widgets/base",
      "model_module_version": "1.2.0",
      "model_name": "LayoutModel",
      "state": {}
     },
     "7e8f0be475944193a9c923e75a7f3615": {
      "model_module": "@jupyter-widgets/controls",
      "model_module_version": "1.5.0",
      "model_name": "FloatProgressModel",
      "state": {
       "bar_style": "danger",
       "description": "  0%",
       "layout": "IPY_MODEL_1db20480fa8e4b3b947a474cd0aa812c",
       "max": 6857,
       "style": "IPY_MODEL_14cafe9df9b9480787f7a24ca2a7f47f"
      }
     },
     "821faaa630964bb790635fad5eea661c": {
      "model_module": "@jupyter-widgets/controls",
      "model_module_version": "1.5.0",
      "model_name": "FloatProgressModel",
      "state": {
       "bar_style": "success",
       "description": "100%",
       "layout": "IPY_MODEL_98177f4f52224cb9b82f1c73c2a6b677",
       "max": 2615,
       "style": "IPY_MODEL_b12156bdc9864a69a27dbce7880c0e77",
       "value": 2615
      }
     },
     "828b2c3f2dee499d98040fff28703bb9": {
      "model_module": "@jupyter-widgets/controls",
      "model_module_version": "1.5.0",
      "model_name": "DescriptionStyleModel",
      "state": {
       "description_width": ""
      }
     },
     "835a82df5f7a44af9db1d65ec44f03ce": {
      "model_module": "@jupyter-widgets/controls",
      "model_module_version": "1.5.0",
      "model_name": "DescriptionStyleModel",
      "state": {
       "description_width": ""
      }
     },
     "838ccc474b854f719bbadb27e9e86a55": {
      "model_module": "@jupyter-widgets/controls",
      "model_module_version": "1.5.0",
      "model_name": "FloatProgressModel",
      "state": {
       "bar_style": "success",
       "description": "100%",
       "layout": "IPY_MODEL_99701ba3139040e798ac6d51256c82e3",
       "max": 6857,
       "style": "IPY_MODEL_11e2dbb517ad4d1ca8f93451a23640b5",
       "value": 6857
      }
     },
     "83fe39b56d5448b6ab195da354552d89": {
      "model_module": "@jupyter-widgets/base",
      "model_module_version": "1.2.0",
      "model_name": "LayoutModel",
      "state": {}
     },
     "860f89f29dd84355874553fe27b6cc38": {
      "model_module": "@jupyter-widgets/controls",
      "model_module_version": "1.5.0",
      "model_name": "HTMLModel",
      "state": {
       "layout": "IPY_MODEL_02d2fc40f6484222bcfebe68c72252ab",
       "style": "IPY_MODEL_c8e038803f4c4020901ce39447cbb58b",
       "value": " 2615/2615 [04:35&lt;00:00,  9.49it/s]"
      }
     },
     "861cb6b488274995abd685000c54bf8e": {
      "model_module": "@jupyter-widgets/base",
      "model_module_version": "1.2.0",
      "model_name": "LayoutModel",
      "state": {}
     },
     "86a92741396a42cba47c59cfa828b474": {
      "model_module": "@jupyter-widgets/controls",
      "model_module_version": "1.5.0",
      "model_name": "FloatProgressModel",
      "state": {
       "bar_style": "danger",
       "description": "  0%",
       "layout": "IPY_MODEL_afe4a5c6f5c74b2f99a75c485e3a05bc",
       "max": 150,
       "style": "IPY_MODEL_da6620d56ee84637b076d7d3e8457cbc"
      }
     },
     "86f369c17380431f8e2a0e8cec1fd58e": {
      "model_module": "@jupyter-widgets/base",
      "model_module_version": "1.2.0",
      "model_name": "LayoutModel",
      "state": {}
     },
     "86f648ba760f47a8a7832f7d4253bd64": {
      "model_module": "@jupyter-widgets/controls",
      "model_module_version": "1.5.0",
      "model_name": "FloatProgressModel",
      "state": {
       "bar_style": "success",
       "description": "100%",
       "layout": "IPY_MODEL_fa7ca1a6044847c2a82e5b9a62f60bc1",
       "max": 6857,
       "style": "IPY_MODEL_b1b3626014b3474c8fdcbdc22f8af397",
       "value": 6857
      }
     },
     "872da3cdd645405093546cf6a8c2247c": {
      "model_module": "@jupyter-widgets/controls",
      "model_module_version": "1.5.0",
      "model_name": "HTMLModel",
      "state": {
       "layout": "IPY_MODEL_0feb0f33b4bf4a4092f8ba0844710642",
       "style": "IPY_MODEL_8f634962d65a432c8853a33b70eb4127",
       "value": " 6857/6857 [10:23&lt;00:00, 11.00it/s]"
      }
     },
     "872ebdd6f9514b3eabbac027bd5b7033": {
      "model_module": "@jupyter-widgets/controls",
      "model_module_version": "1.5.0",
      "model_name": "HTMLModel",
      "state": {
       "layout": "IPY_MODEL_0d1ec2c4c31143fa8be448cb05dd577b",
       "style": "IPY_MODEL_9b723b8a8fc44f4595e38bcc81672e3d",
       "value": " 2615/2615 [01:34&lt;00:00, 27.54it/s]"
      }
     },
     "877ffcad6fef4ee1b5c1026d65c59c1d": {
      "model_module": "@jupyter-widgets/controls",
      "model_module_version": "1.5.0",
      "model_name": "HTMLModel",
      "state": {
       "layout": "IPY_MODEL_719477c3734c44daa65089a99dadb125",
       "style": "IPY_MODEL_e9a67753faef440d9f7e7e26a0f82f1c",
       "value": " 0/150 [00:00&lt;?, ?it/s]"
      }
     },
     "884918c62568424890cb9e05d34dd602": {
      "model_module": "@jupyter-widgets/controls",
      "model_module_version": "1.5.0",
      "model_name": "FloatProgressModel",
      "state": {
       "bar_style": "danger",
       "description": "  0%",
       "layout": "IPY_MODEL_3f5007479f7b4068be71b4a48b5e3f01",
       "max": 6857,
       "style": "IPY_MODEL_93cfd893a8044f70835a8a38034c2107"
      }
     },
     "8a0c2ab78f524da8b040e9c4fc35ea4a": {
      "model_module": "@jupyter-widgets/controls",
      "model_module_version": "1.5.0",
      "model_name": "HBoxModel",
      "state": {
       "children": [
        "IPY_MODEL_838ccc474b854f719bbadb27e9e86a55",
        "IPY_MODEL_2583b47a38f44e82b45843b015c99fc3"
       ],
       "layout": "IPY_MODEL_2b4f9cac58dc4d39939287f607ef7df1"
      }
     },
     "8a35465178854daa91599009997fdad5": {
      "model_module": "@jupyter-widgets/controls",
      "model_module_version": "1.5.0",
      "model_name": "HTMLModel",
      "state": {
       "layout": "IPY_MODEL_0bc5237511d3417a88900eb7d0762e00",
       "style": "IPY_MODEL_1d9888c41c264f56bd09bf27be7f7480",
       "value": " 2615/2615 [04:00&lt;00:00, 10.85it/s]"
      }
     },
     "8a47987257154e99a430dafda0fdf980": {
      "model_module": "@jupyter-widgets/controls",
      "model_module_version": "1.5.0",
      "model_name": "HTMLModel",
      "state": {
       "layout": "IPY_MODEL_ce8e845bb86c4ed1a0221c84cf12f20f",
       "style": "IPY_MODEL_69b042d4aa664d7d805613d08e8a322f",
       "value": " 0/6857 [00:00&lt;?, ?it/s]"
      }
     },
     "8adde701f2664348aebce84744e3de12": {
      "model_module": "@jupyter-widgets/controls",
      "model_module_version": "1.5.0",
      "model_name": "HBoxModel",
      "state": {
       "children": [
        "IPY_MODEL_29eaa93286e642e3a18994311e333c68",
        "IPY_MODEL_569e1fd5eeb842cc9a124897ee68f9c1"
       ],
       "layout": "IPY_MODEL_25bc577be53a46c79d9448a96739be9f"
      }
     },
     "8b34f235c82d4fc4a5a28e520ab50449": {
      "model_module": "@jupyter-widgets/base",
      "model_module_version": "1.2.0",
      "model_name": "LayoutModel",
      "state": {}
     },
     "8dd1cbf54aec4173a0bbd9626f82fada": {
      "model_module": "@jupyter-widgets/controls",
      "model_module_version": "1.5.0",
      "model_name": "HBoxModel",
      "state": {
       "children": [
        "IPY_MODEL_4bbb4532a62d4718a41d70f61cd237fe",
        "IPY_MODEL_6f720902425b4909902859ae8943820d"
       ],
       "layout": "IPY_MODEL_83fe39b56d5448b6ab195da354552d89"
      }
     },
     "8f634962d65a432c8853a33b70eb4127": {
      "model_module": "@jupyter-widgets/controls",
      "model_module_version": "1.5.0",
      "model_name": "DescriptionStyleModel",
      "state": {
       "description_width": ""
      }
     },
     "9045587391874059abbf3d3f59b7d9f0": {
      "model_module": "@jupyter-widgets/base",
      "model_module_version": "1.2.0",
      "model_name": "LayoutModel",
      "state": {}
     },
     "9261aebcc7f147a99b36627e8d34e886": {
      "model_module": "@jupyter-widgets/controls",
      "model_module_version": "1.5.0",
      "model_name": "DescriptionStyleModel",
      "state": {
       "description_width": ""
      }
     },
     "93cfd893a8044f70835a8a38034c2107": {
      "model_module": "@jupyter-widgets/controls",
      "model_module_version": "1.5.0",
      "model_name": "ProgressStyleModel",
      "state": {
       "description_width": "initial"
      }
     },
     "94964da4f3b24cb9b6f99bd9761ee1fa": {
      "model_module": "@jupyter-widgets/controls",
      "model_module_version": "1.5.0",
      "model_name": "DescriptionStyleModel",
      "state": {
       "description_width": ""
      }
     },
     "957264be0f3247f6a1072e32438aa1dd": {
      "model_module": "@jupyter-widgets/base",
      "model_module_version": "1.2.0",
      "model_name": "LayoutModel",
      "state": {}
     },
     "9652904f062e4a99812a2d693e5c8def": {
      "model_module": "@jupyter-widgets/base",
      "model_module_version": "1.2.0",
      "model_name": "LayoutModel",
      "state": {}
     },
     "96c0789b13ef466ca6eee478e5a283b1": {
      "model_module": "@jupyter-widgets/controls",
      "model_module_version": "1.5.0",
      "model_name": "HBoxModel",
      "state": {
       "children": [
        "IPY_MODEL_2e806014412b4c9eb9b2b17488c3f154",
        "IPY_MODEL_d9a51492dedf4e358ca23625bc8b7119"
       ],
       "layout": "IPY_MODEL_cc75fc2e6bdf4126a9d059cedd5487ea"
      }
     },
     "975f932ce17e47f68cb13cb53785c5e8": {
      "model_module": "@jupyter-widgets/controls",
      "model_module_version": "1.5.0",
      "model_name": "HTMLModel",
      "state": {
       "layout": "IPY_MODEL_9979400ea37b48e992ca414129f00cfb",
       "style": "IPY_MODEL_74ed71e220254fcb972c0963154ea316",
       "value": " 0/150 [00:01&lt;?, ?it/s]"
      }
     },
     "98177f4f52224cb9b82f1c73c2a6b677": {
      "model_module": "@jupyter-widgets/base",
      "model_module_version": "1.2.0",
      "model_name": "LayoutModel",
      "state": {}
     },
     "98b1d7be8e9d47b69180775ae2278726": {
      "model_module": "@jupyter-widgets/base",
      "model_module_version": "1.2.0",
      "model_name": "LayoutModel",
      "state": {}
     },
     "98b6eb0d42df4da6a0d7047df49f35a2": {
      "model_module": "@jupyter-widgets/controls",
      "model_module_version": "1.5.0",
      "model_name": "FloatProgressModel",
      "state": {
       "bar_style": "danger",
       "description": "  9%",
       "layout": "IPY_MODEL_0cd2eaba8fe945e9b04f9a4d7e9f048e",
       "max": 6857,
       "style": "IPY_MODEL_57dbf948c49e4234b2592f0dc682839c",
       "value": 619
      }
     },
     "99385b3b48d3456dbf3df7328f1a62ce": {
      "model_module": "@jupyter-widgets/base",
      "model_module_version": "1.2.0",
      "model_name": "LayoutModel",
      "state": {}
     },
     "99701ba3139040e798ac6d51256c82e3": {
      "model_module": "@jupyter-widgets/base",
      "model_module_version": "1.2.0",
      "model_name": "LayoutModel",
      "state": {}
     },
     "9979400ea37b48e992ca414129f00cfb": {
      "model_module": "@jupyter-widgets/base",
      "model_module_version": "1.2.0",
      "model_name": "LayoutModel",
      "state": {}
     },
     "99f4f5b09d5b496a8cdc183649731253": {
      "model_module": "@jupyter-widgets/controls",
      "model_module_version": "1.5.0",
      "model_name": "DescriptionStyleModel",
      "state": {
       "description_width": ""
      }
     },
     "9b383dbce37c4263b85d9329524f1ae0": {
      "model_module": "@jupyter-widgets/controls",
      "model_module_version": "1.5.0",
      "model_name": "FloatProgressModel",
      "state": {
       "bar_style": "danger",
       "description": "  0%",
       "layout": "IPY_MODEL_3a5ee8f145d64b9ba3d81bf62fbbce65",
       "max": 150,
       "style": "IPY_MODEL_12c9cfac23e246428da2b0c2ac7e7ba6"
      }
     },
     "9b723b8a8fc44f4595e38bcc81672e3d": {
      "model_module": "@jupyter-widgets/controls",
      "model_module_version": "1.5.0",
      "model_name": "DescriptionStyleModel",
      "state": {
       "description_width": ""
      }
     },
     "9d444cd4e01644c8ae4361c0acd8dc66": {
      "model_module": "@jupyter-widgets/base",
      "model_module_version": "1.2.0",
      "model_name": "LayoutModel",
      "state": {}
     },
     "9e58b50f2a6f49e59af8b77cac6a161a": {
      "model_module": "@jupyter-widgets/controls",
      "model_module_version": "1.5.0",
      "model_name": "ProgressStyleModel",
      "state": {
       "description_width": "initial"
      }
     },
     "9f8566d4c0d742c1b65f12b3bea4fb19": {
      "model_module": "@jupyter-widgets/controls",
      "model_module_version": "1.5.0",
      "model_name": "HTMLModel",
      "state": {
       "layout": "IPY_MODEL_ef8e32afda0e457da4d7d7a8e48e2832",
       "style": "IPY_MODEL_d98cbf8501024dcf9a349a1d33c31f10",
       "value": " 687/687 [00:50&lt;00:00, 13.51it/s]"
      }
     },
     "a048192db59e49fcb31bdc3a549fb5ee": {
      "model_module": "@jupyter-widgets/controls",
      "model_module_version": "1.5.0",
      "model_name": "HBoxModel",
      "state": {
       "children": [
        "IPY_MODEL_5aabb77dec45451fa512fc4ae88f22df",
        "IPY_MODEL_a1e8912bb7e64d8f92e94729b07b4938"
       ],
       "layout": "IPY_MODEL_3c3d0b5e7cfb44d68ee56d1fb46e7b23"
      }
     },
     "a0a639e2e22a457fb3bf71ce32194e18": {
      "model_module": "@jupyter-widgets/controls",
      "model_module_version": "1.5.0",
      "model_name": "HBoxModel",
      "state": {
       "children": [
        "IPY_MODEL_bb00e367eec0458d9cd1e72444ce5c23",
        "IPY_MODEL_975f932ce17e47f68cb13cb53785c5e8"
       ],
       "layout": "IPY_MODEL_cfbaae219d5c42339b70b9a8c0ba0e22"
      }
     },
     "a1e8912bb7e64d8f92e94729b07b4938": {
      "model_module": "@jupyter-widgets/controls",
      "model_module_version": "1.5.0",
      "model_name": "HTMLModel",
      "state": {
       "layout": "IPY_MODEL_6c89ccb1ae094d46ab9d25494236ffa8",
       "style": "IPY_MODEL_99f4f5b09d5b496a8cdc183649731253",
       "value": " 569/2615 [02:17&lt;08:15,  4.13it/s]"
      }
     },
     "a353bb4a1b0c4f9fa44460cc376c426e": {
      "model_module": "@jupyter-widgets/controls",
      "model_module_version": "1.5.0",
      "model_name": "FloatProgressModel",
      "state": {
       "bar_style": "danger",
       "description": " 82%",
       "layout": "IPY_MODEL_5f77359f2912483cb10923af926b17f4",
       "max": 2615,
       "style": "IPY_MODEL_9e58b50f2a6f49e59af8b77cac6a161a",
       "value": 2157
      }
     },
     "a3c25f417f014a59883549943aff49f5": {
      "model_module": "@jupyter-widgets/controls",
      "model_module_version": "1.5.0",
      "model_name": "DescriptionStyleModel",
      "state": {
       "description_width": ""
      }
     },
     "a40d2fb1f40345aca370dc1a2104d8d4": {
      "model_module": "@jupyter-widgets/controls",
      "model_module_version": "1.5.0",
      "model_name": "HTMLModel",
      "state": {
       "layout": "IPY_MODEL_797c1d13cf8d4343877fd378703b56d3",
       "style": "IPY_MODEL_ae13500e3a5140b88eea3ef68888ce54",
       "value": " 2615/2615 [04:02&lt;00:00, 10.77it/s]"
      }
     },
     "a4e37c2e38ba4f268cadce898dd7fe16": {
      "model_module": "@jupyter-widgets/controls",
      "model_module_version": "1.5.0",
      "model_name": "HBoxModel",
      "state": {
       "children": [
        "IPY_MODEL_050f00298dfd48859bebc361237e9cc4",
        "IPY_MODEL_f3b85da5cd6b476cbca8d1b2e6cf0530"
       ],
       "layout": "IPY_MODEL_cc83ed15bdaa4f9e86bc56f630459f2a"
      }
     },
     "a8f5de80893d4dac92dce9de704477b2": {
      "model_module": "@jupyter-widgets/base",
      "model_module_version": "1.2.0",
      "model_name": "LayoutModel",
      "state": {}
     },
     "a91c0d85da264800bd18de2b60a99c9a": {
      "model_module": "@jupyter-widgets/controls",
      "model_module_version": "1.5.0",
      "model_name": "HBoxModel",
      "state": {
       "children": [
        "IPY_MODEL_e2c339d77cf446f5834e1b4a32e61ce0",
        "IPY_MODEL_15dd28c9726c401d8fda616bceb83fb7"
       ],
       "layout": "IPY_MODEL_2722cf45ce5c41f3934bcc22005e8c39"
      }
     },
     "a9964e24efdf4e83b7dc09514cb1952c": {
      "model_module": "@jupyter-widgets/controls",
      "model_module_version": "1.5.0",
      "model_name": "HTMLModel",
      "state": {
       "layout": "IPY_MODEL_18c4f72e9e74470aa5f73e80b3a723a8",
       "style": "IPY_MODEL_1d055e100d214e7980d2cffccf0f992a",
       "value": " 0/6857 [00:00&lt;?, ?it/s]"
      }
     },
     "a9b849ceb916486496c86190e1381177": {
      "model_module": "@jupyter-widgets/controls",
      "model_module_version": "1.5.0",
      "model_name": "HTMLModel",
      "state": {
       "layout": "IPY_MODEL_031b3f8c65e84246986a8ee760983b50",
       "style": "IPY_MODEL_365532800cd54294bfb7b394fb7fdc09",
       "value": " 0/6857 [00:00&lt;?, ?it/s]"
      }
     },
     "ab297b75a4d7470d9188a0c360cbfbb6": {
      "model_module": "@jupyter-widgets/base",
      "model_module_version": "1.2.0",
      "model_name": "LayoutModel",
      "state": {}
     },
     "ab81b3730cfb45df877c1675e4987632": {
      "model_module": "@jupyter-widgets/base",
      "model_module_version": "1.2.0",
      "model_name": "LayoutModel",
      "state": {}
     },
     "acf7722d2a864a4cb7ae8bfa9315ca5f": {
      "model_module": "@jupyter-widgets/base",
      "model_module_version": "1.2.0",
      "model_name": "LayoutModel",
      "state": {}
     },
     "ad2b2db4e4bf418a8e5cac99f2fb84c9": {
      "model_module": "@jupyter-widgets/controls",
      "model_module_version": "1.5.0",
      "model_name": "FloatProgressModel",
      "state": {
       "bar_style": "danger",
       "description": "  0%",
       "layout": "IPY_MODEL_c63e3676f92343baa067bbfcf6fe232f",
       "max": 6857,
       "style": "IPY_MODEL_684fafc6b5a34193a89a4364431751c1"
      }
     },
     "adb16b5693344179ba84b56830de72bb": {
      "model_module": "@jupyter-widgets/base",
      "model_module_version": "1.2.0",
      "model_name": "LayoutModel",
      "state": {}
     },
     "ae13500e3a5140b88eea3ef68888ce54": {
      "model_module": "@jupyter-widgets/controls",
      "model_module_version": "1.5.0",
      "model_name": "DescriptionStyleModel",
      "state": {
       "description_width": ""
      }
     },
     "af25512d1e1b45e3923b7dba02fec62a": {
      "model_module": "@jupyter-widgets/controls",
      "model_module_version": "1.5.0",
      "model_name": "ProgressStyleModel",
      "state": {
       "description_width": "initial"
      }
     },
     "afc9ca8d309e40019b47e7b4df668afb": {
      "model_module": "@jupyter-widgets/base",
      "model_module_version": "1.2.0",
      "model_name": "LayoutModel",
      "state": {}
     },
     "afe4a5c6f5c74b2f99a75c485e3a05bc": {
      "model_module": "@jupyter-widgets/base",
      "model_module_version": "1.2.0",
      "model_name": "LayoutModel",
      "state": {}
     },
     "b12156bdc9864a69a27dbce7880c0e77": {
      "model_module": "@jupyter-widgets/controls",
      "model_module_version": "1.5.0",
      "model_name": "ProgressStyleModel",
      "state": {
       "description_width": "initial"
      }
     },
     "b1b3626014b3474c8fdcbdc22f8af397": {
      "model_module": "@jupyter-widgets/controls",
      "model_module_version": "1.5.0",
      "model_name": "ProgressStyleModel",
      "state": {
       "description_width": "initial"
      }
     },
     "b1fd0a0eef044e729efc71c89c75b8af": {
      "model_module": "@jupyter-widgets/controls",
      "model_module_version": "1.5.0",
      "model_name": "DescriptionStyleModel",
      "state": {
       "description_width": ""
      }
     },
     "b253d644cbc74594a8c7eaf1d9ecc3d9": {
      "model_module": "@jupyter-widgets/controls",
      "model_module_version": "1.5.0",
      "model_name": "DescriptionStyleModel",
      "state": {
       "description_width": ""
      }
     },
     "b30a86aad2ba4ba68bb53db46fad4e14": {
      "model_module": "@jupyter-widgets/base",
      "model_module_version": "1.2.0",
      "model_name": "LayoutModel",
      "state": {}
     },
     "b445aa6228f8427da788c45b92d13bda": {
      "model_module": "@jupyter-widgets/controls",
      "model_module_version": "1.5.0",
      "model_name": "HBoxModel",
      "state": {
       "children": [
        "IPY_MODEL_2df8b417928f4d1bafe7dcb3b0be527d",
        "IPY_MODEL_a40d2fb1f40345aca370dc1a2104d8d4"
       ],
       "layout": "IPY_MODEL_66ac22bf84f3457898cc988fabeaaf80"
      }
     },
     "b4490a4b38c34c1ea6b7d0a267da4589": {
      "model_module": "@jupyter-widgets/base",
      "model_module_version": "1.2.0",
      "model_name": "LayoutModel",
      "state": {}
     },
     "b4e6c1c0db5145bbb372981715e031e1": {
      "model_module": "@jupyter-widgets/controls",
      "model_module_version": "1.5.0",
      "model_name": "HTMLModel",
      "state": {
       "layout": "IPY_MODEL_fb760762bb104994bffb0f30ecc643ea",
       "style": "IPY_MODEL_ec1c7adfdedf413bbf13393173ff7282",
       "value": " 0/6857 [00:00&lt;?, ?it/s]"
      }
     },
     "b59214b3999449c7adfa416bfd8dc424": {
      "model_module": "@jupyter-widgets/controls",
      "model_module_version": "1.5.0",
      "model_name": "FloatProgressModel",
      "state": {
       "bar_style": "success",
       "description": "100%",
       "layout": "IPY_MODEL_9d444cd4e01644c8ae4361c0acd8dc66",
       "max": 687,
       "style": "IPY_MODEL_64466537e5bc4faab2d0d59264a4d910",
       "value": 687
      }
     },
     "b677c282a65a4a5d8bc5c5d61c3f3389": {
      "model_module": "@jupyter-widgets/base",
      "model_module_version": "1.2.0",
      "model_name": "LayoutModel",
      "state": {}
     },
     "bb00e367eec0458d9cd1e72444ce5c23": {
      "model_module": "@jupyter-widgets/controls",
      "model_module_version": "1.5.0",
      "model_name": "FloatProgressModel",
      "state": {
       "bar_style": "danger",
       "description": "  0%",
       "layout": "IPY_MODEL_a8f5de80893d4dac92dce9de704477b2",
       "max": 150,
       "style": "IPY_MODEL_6124b8baae9249fd936159ab3e10d203"
      }
     },
     "bff86ef295264da0ac1d15b3830124ac": {
      "model_module": "@jupyter-widgets/base",
      "model_module_version": "1.2.0",
      "model_name": "LayoutModel",
      "state": {}
     },
     "c01785d726cc4e7596e3005a5064b2b7": {
      "model_module": "@jupyter-widgets/base",
      "model_module_version": "1.2.0",
      "model_name": "LayoutModel",
      "state": {}
     },
     "c2379cb9a8bf425f9800d9828d3159a6": {
      "model_module": "@jupyter-widgets/controls",
      "model_module_version": "1.5.0",
      "model_name": "HTMLModel",
      "state": {
       "layout": "IPY_MODEL_e9e2a26842664d58913e6e33bf3e4a48",
       "style": "IPY_MODEL_94964da4f3b24cb9b6f99bd9761ee1fa",
       "value": " 234/6857 [03:32&lt;1:40:03,  1.10it/s]"
      }
     },
     "c2519cedf13b4440b6dc1a0ec432bf06": {
      "model_module": "@jupyter-widgets/controls",
      "model_module_version": "1.5.0",
      "model_name": "DescriptionStyleModel",
      "state": {
       "description_width": ""
      }
     },
     "c254c835d3f341419450547b190d505c": {
      "model_module": "@jupyter-widgets/controls",
      "model_module_version": "1.5.0",
      "model_name": "ProgressStyleModel",
      "state": {
       "description_width": "initial"
      }
     },
     "c63e3676f92343baa067bbfcf6fe232f": {
      "model_module": "@jupyter-widgets/base",
      "model_module_version": "1.2.0",
      "model_name": "LayoutModel",
      "state": {}
     },
     "c6a53a31acec49f5954e7257e4d172f8": {
      "model_module": "@jupyter-widgets/controls",
      "model_module_version": "1.5.0",
      "model_name": "HTMLModel",
      "state": {
       "layout": "IPY_MODEL_6424dbe3681841c9bba1d0b6b468d62d",
       "style": "IPY_MODEL_d270e0765d114e8ca87df04e48373935",
       "value": " 443/443 [00:40&lt;00:00, 10.94it/s]"
      }
     },
     "c7e8d830ec6e448ea0c26a0d579579f9": {
      "model_module": "@jupyter-widgets/base",
      "model_module_version": "1.2.0",
      "model_name": "LayoutModel",
      "state": {}
     },
     "c83f66dd4d10417ab3729f0b05e85cb7": {
      "model_module": "@jupyter-widgets/base",
      "model_module_version": "1.2.0",
      "model_name": "LayoutModel",
      "state": {}
     },
     "c8e038803f4c4020901ce39447cbb58b": {
      "model_module": "@jupyter-widgets/controls",
      "model_module_version": "1.5.0",
      "model_name": "DescriptionStyleModel",
      "state": {
       "description_width": ""
      }
     },
     "cc75fc2e6bdf4126a9d059cedd5487ea": {
      "model_module": "@jupyter-widgets/base",
      "model_module_version": "1.2.0",
      "model_name": "LayoutModel",
      "state": {}
     },
     "cc83ed15bdaa4f9e86bc56f630459f2a": {
      "model_module": "@jupyter-widgets/base",
      "model_module_version": "1.2.0",
      "model_name": "LayoutModel",
      "state": {}
     },
     "ce8e845bb86c4ed1a0221c84cf12f20f": {
      "model_module": "@jupyter-widgets/base",
      "model_module_version": "1.2.0",
      "model_name": "LayoutModel",
      "state": {}
     },
     "cf4be6e1d28a42509c65b3b6f1dd6e5b": {
      "model_module": "@jupyter-widgets/controls",
      "model_module_version": "1.5.0",
      "model_name": "HBoxModel",
      "state": {
       "children": [
        "IPY_MODEL_884918c62568424890cb9e05d34dd602",
        "IPY_MODEL_0399f53d25b9431da02f35e5e242bd98"
       ],
       "layout": "IPY_MODEL_f9feceff74ac4f16bff85cd25d78eccc"
      }
     },
     "cf7b4112800b43ca873f92f0a52ede74": {
      "model_module": "@jupyter-widgets/base",
      "model_module_version": "1.2.0",
      "model_name": "LayoutModel",
      "state": {}
     },
     "cfbaae219d5c42339b70b9a8c0ba0e22": {
      "model_module": "@jupyter-widgets/base",
      "model_module_version": "1.2.0",
      "model_name": "LayoutModel",
      "state": {}
     },
     "d00e14511d3e4eddae833d66de36d995": {
      "model_module": "@jupyter-widgets/controls",
      "model_module_version": "1.5.0",
      "model_name": "HBoxModel",
      "state": {
       "children": [
        "IPY_MODEL_7207e8cf116f4cf59d6be3966d9166f4",
        "IPY_MODEL_ea4f6a80ceb641cd973f8037f2adf229"
       ],
       "layout": "IPY_MODEL_1629de7766964361a55f207d33b5aa8d"
      }
     },
     "d1e2caebc4574e7e8539e6f0c75d4e4f": {
      "model_module": "@jupyter-widgets/base",
      "model_module_version": "1.2.0",
      "model_name": "LayoutModel",
      "state": {}
     },
     "d20222e885b34e93b4b95c718ab55e0e": {
      "model_module": "@jupyter-widgets/controls",
      "model_module_version": "1.5.0",
      "model_name": "ProgressStyleModel",
      "state": {
       "description_width": "initial"
      }
     },
     "d22b4d977f1d4cd895d84fd0c7cddf1e": {
      "model_module": "@jupyter-widgets/base",
      "model_module_version": "1.2.0",
      "model_name": "LayoutModel",
      "state": {}
     },
     "d270e0765d114e8ca87df04e48373935": {
      "model_module": "@jupyter-widgets/controls",
      "model_module_version": "1.5.0",
      "model_name": "DescriptionStyleModel",
      "state": {
       "description_width": ""
      }
     },
     "d529d2831c5745ffaffbbdc2a8deaac5": {
      "model_module": "@jupyter-widgets/base",
      "model_module_version": "1.2.0",
      "model_name": "LayoutModel",
      "state": {}
     },
     "d5d5036ed52c47c3b8fa1396dc8fe2f4": {
      "model_module": "@jupyter-widgets/controls",
      "model_module_version": "1.5.0",
      "model_name": "HTMLModel",
      "state": {
       "layout": "IPY_MODEL_957264be0f3247f6a1072e32438aa1dd",
       "style": "IPY_MODEL_a3c25f417f014a59883549943aff49f5",
       "value": " 0/150 [00:01&lt;?, ?it/s]"
      }
     },
     "d6e4b2f452cc40769df65f25f0118a1d": {
      "model_module": "@jupyter-widgets/base",
      "model_module_version": "1.2.0",
      "model_name": "LayoutModel",
      "state": {}
     },
     "d8211fe40b594a94bca1ee601a814a8d": {
      "model_module": "@jupyter-widgets/controls",
      "model_module_version": "1.5.0",
      "model_name": "HBoxModel",
      "state": {
       "children": [
        "IPY_MODEL_2426bc3751b84666a960634abbdabe2b",
        "IPY_MODEL_c6a53a31acec49f5954e7257e4d172f8"
       ],
       "layout": "IPY_MODEL_255c568dd78540a7917da20fd71513eb"
      }
     },
     "d852eeab63c742e89120421af259b6e6": {
      "model_module": "@jupyter-widgets/controls",
      "model_module_version": "1.5.0",
      "model_name": "HBoxModel",
      "state": {
       "children": [
        "IPY_MODEL_124d2e8c055c4a9eb4f0f5a0d39ae095",
        "IPY_MODEL_c2379cb9a8bf425f9800d9828d3159a6"
       ],
       "layout": "IPY_MODEL_708b6ea4b4294194a8819e73c180116f"
      }
     },
     "d98cbf8501024dcf9a349a1d33c31f10": {
      "model_module": "@jupyter-widgets/controls",
      "model_module_version": "1.5.0",
      "model_name": "DescriptionStyleModel",
      "state": {
       "description_width": ""
      }
     },
     "d9a51492dedf4e358ca23625bc8b7119": {
      "model_module": "@jupyter-widgets/controls",
      "model_module_version": "1.5.0",
      "model_name": "HTMLModel",
      "state": {
       "layout": "IPY_MODEL_acf7722d2a864a4cb7ae8bfa9315ca5f",
       "style": "IPY_MODEL_62a94bd339d84d7d8ed0547173dd4090",
       "value": " 150/150 [00:30&lt;00:00,  4.99it/s]"
      }
     },
     "da2e537799394b8792afb1fd42a5f264": {
      "model_module": "@jupyter-widgets/controls",
      "model_module_version": "1.5.0",
      "model_name": "ProgressStyleModel",
      "state": {
       "description_width": "initial"
      }
     },
     "da6620d56ee84637b076d7d3e8457cbc": {
      "model_module": "@jupyter-widgets/controls",
      "model_module_version": "1.5.0",
      "model_name": "ProgressStyleModel",
      "state": {
       "description_width": "initial"
      }
     },
     "dabb03cb0b704501a239cf0af55a3a7b": {
      "model_module": "@jupyter-widgets/controls",
      "model_module_version": "1.5.0",
      "model_name": "HTMLModel",
      "state": {
       "layout": "IPY_MODEL_cf7b4112800b43ca873f92f0a52ede74",
       "style": "IPY_MODEL_835a82df5f7a44af9db1d65ec44f03ce",
       "value": " 2615/2615 [04:22&lt;00:00,  9.95it/s]"
      }
     },
     "db759c38944040fa8b37ab20ac109beb": {
      "model_module": "@jupyter-widgets/controls",
      "model_module_version": "1.5.0",
      "model_name": "ProgressStyleModel",
      "state": {
       "description_width": "initial"
      }
     },
     "dcbc45e525614389ae5333718bae021c": {
      "model_module": "@jupyter-widgets/controls",
      "model_module_version": "1.5.0",
      "model_name": "HBoxModel",
      "state": {
       "children": [
        "IPY_MODEL_3fe2ec065991414a8a8129ca08944b93",
        "IPY_MODEL_f175f0fe60574dde9c358c2174d3be88"
       ],
       "layout": "IPY_MODEL_4013e85601da44d394784f37cdef4ee2"
      }
     },
     "df16c33207734774bf66b853d60ab9f2": {
      "model_module": "@jupyter-widgets/controls",
      "model_module_version": "1.5.0",
      "model_name": "HBoxModel",
      "state": {
       "children": [
        "IPY_MODEL_98b6eb0d42df4da6a0d7047df49f35a2",
        "IPY_MODEL_4006945902374d22965778229328d3ea"
       ],
       "layout": "IPY_MODEL_0bf50bc53f4847298a171528e4d1b70a"
      }
     },
     "e0836d825743464f81044a159560b7b3": {
      "model_module": "@jupyter-widgets/controls",
      "model_module_version": "1.5.0",
      "model_name": "HTMLModel",
      "state": {
       "layout": "IPY_MODEL_6cb20115153244f2804ea3807222f2f8",
       "style": "IPY_MODEL_0edd365360324c3abf29d460c1fd583f",
       "value": " 493/2615 [00:20&lt;01:59, 17.69it/s]"
      }
     },
     "e0a1aaae0353492184122a288b3f3e67": {
      "model_module": "@jupyter-widgets/controls",
      "model_module_version": "1.5.0",
      "model_name": "DescriptionStyleModel",
      "state": {
       "description_width": ""
      }
     },
     "e1d1ad69b8154af0ac9758ce44aa63f1": {
      "model_module": "@jupyter-widgets/controls",
      "model_module_version": "1.5.0",
      "model_name": "FloatProgressModel",
      "state": {
       "bar_style": "danger",
       "description": "  0%",
       "layout": "IPY_MODEL_2c8ebf9fc37f46499fe13c2cecf474f7",
       "max": 6857,
       "style": "IPY_MODEL_d20222e885b34e93b4b95c718ab55e0e"
      }
     },
     "e2c339d77cf446f5834e1b4a32e61ce0": {
      "model_module": "@jupyter-widgets/controls",
      "model_module_version": "1.5.0",
      "model_name": "FloatProgressModel",
      "state": {
       "bar_style": "success",
       "description": "100%",
       "layout": "IPY_MODEL_d529d2831c5745ffaffbbdc2a8deaac5",
       "max": 2615,
       "style": "IPY_MODEL_3012a3bae3374d65b1a58b4ed7931575",
       "value": 2615
      }
     },
     "e407c5ba145643b899809bdcc8373418": {
      "model_module": "@jupyter-widgets/controls",
      "model_module_version": "1.5.0",
      "model_name": "HBoxModel",
      "state": {
       "children": [
        "IPY_MODEL_728fddce67954925a51ebc72463704ae",
        "IPY_MODEL_13c0d964a8da4cae8ee9f3a726562934"
       ],
       "layout": "IPY_MODEL_c01785d726cc4e7596e3005a5064b2b7"
      }
     },
     "e73eb49d28fc49ab90f0b30ab57b926d": {
      "model_module": "@jupyter-widgets/base",
      "model_module_version": "1.2.0",
      "model_name": "LayoutModel",
      "state": {}
     },
     "e7a4524731e8425482b7a12d933492e2": {
      "model_module": "@jupyter-widgets/controls",
      "model_module_version": "1.5.0",
      "model_name": "DescriptionStyleModel",
      "state": {
       "description_width": ""
      }
     },
     "e85c84e37389448aa309899b48d52c6a": {
      "model_module": "@jupyter-widgets/controls",
      "model_module_version": "1.5.0",
      "model_name": "FloatProgressModel",
      "state": {
       "description": " 19%",
       "layout": "IPY_MODEL_34edb834ad2843bfae0aaad0121b6c7a",
       "max": 2615,
       "style": "IPY_MODEL_af25512d1e1b45e3923b7dba02fec62a",
       "value": 493
      }
     },
     "e862ecc52259460ea2e992922ff0b18e": {
      "model_module": "@jupyter-widgets/controls",
      "model_module_version": "1.5.0",
      "model_name": "HBoxModel",
      "state": {
       "children": [
        "IPY_MODEL_9b383dbce37c4263b85d9329524f1ae0",
        "IPY_MODEL_20c47d894a5c4aa485fa1ea8cc676c38"
       ],
       "layout": "IPY_MODEL_7decbac80878434ba95ec7630e016c84"
      }
     },
     "e90051c24d604190ac7f73865420b253": {
      "model_module": "@jupyter-widgets/base",
      "model_module_version": "1.2.0",
      "model_name": "LayoutModel",
      "state": {}
     },
     "e9a67753faef440d9f7e7e26a0f82f1c": {
      "model_module": "@jupyter-widgets/controls",
      "model_module_version": "1.5.0",
      "model_name": "DescriptionStyleModel",
      "state": {
       "description_width": ""
      }
     },
     "e9e2a26842664d58913e6e33bf3e4a48": {
      "model_module": "@jupyter-widgets/base",
      "model_module_version": "1.2.0",
      "model_name": "LayoutModel",
      "state": {}
     },
     "ea4f6a80ceb641cd973f8037f2adf229": {
      "model_module": "@jupyter-widgets/controls",
      "model_module_version": "1.5.0",
      "model_name": "HTMLModel",
      "state": {
       "layout": "IPY_MODEL_b4490a4b38c34c1ea6b7d0a267da4589",
       "style": "IPY_MODEL_9261aebcc7f147a99b36627e8d34e886",
       "value": " 261/2615 [00:11&lt;01:42, 23.02it/s]"
      }
     },
     "eb811b1657d74a93931231770ea4ec7f": {
      "model_module": "@jupyter-widgets/base",
      "model_module_version": "1.2.0",
      "model_name": "LayoutModel",
      "state": {}
     },
     "ec1c7adfdedf413bbf13393173ff7282": {
      "model_module": "@jupyter-widgets/controls",
      "model_module_version": "1.5.0",
      "model_name": "DescriptionStyleModel",
      "state": {
       "description_width": ""
      }
     },
     "ed4001b7b0084495a9d4e7cf442274af": {
      "model_module": "@jupyter-widgets/controls",
      "model_module_version": "1.5.0",
      "model_name": "DescriptionStyleModel",
      "state": {
       "description_width": ""
      }
     },
     "ef2199d584f945ad820058fe54dc6217": {
      "model_module": "@jupyter-widgets/controls",
      "model_module_version": "1.5.0",
      "model_name": "ProgressStyleModel",
      "state": {
       "description_width": "initial"
      }
     },
     "ef3c6f93cb584db09223f9b66566692a": {
      "model_module": "@jupyter-widgets/controls",
      "model_module_version": "1.5.0",
      "model_name": "HBoxModel",
      "state": {
       "children": [
        "IPY_MODEL_e1d1ad69b8154af0ac9758ce44aa63f1",
        "IPY_MODEL_b4e6c1c0db5145bbb372981715e031e1"
       ],
       "layout": "IPY_MODEL_ab81b3730cfb45df877c1675e4987632"
      }
     },
     "ef8e32afda0e457da4d7d7a8e48e2832": {
      "model_module": "@jupyter-widgets/base",
      "model_module_version": "1.2.0",
      "model_name": "LayoutModel",
      "state": {}
     },
     "efc6968fdf4445d69df3234577d55534": {
      "model_module": "@jupyter-widgets/controls",
      "model_module_version": "1.5.0",
      "model_name": "FloatProgressModel",
      "state": {
       "bar_style": "success",
       "description": "100%",
       "layout": "IPY_MODEL_51d466ab04444be4874c9fdc71f0e70a",
       "max": 2615,
       "style": "IPY_MODEL_3baa77131cfc4a8bb9f262f82962cb50",
       "value": 2615
      }
     },
     "efe0041cb9744226bf28cad242122cd0": {
      "model_module": "@jupyter-widgets/controls",
      "model_module_version": "1.5.0",
      "model_name": "HBoxModel",
      "state": {
       "children": [
        "IPY_MODEL_4da09ee4932742809ff5a3a04afadd34",
        "IPY_MODEL_877ffcad6fef4ee1b5c1026d65c59c1d"
       ],
       "layout": "IPY_MODEL_98b1d7be8e9d47b69180775ae2278726"
      }
     },
     "f1520c02ee9b4ab6a889ca2e96706530": {
      "model_module": "@jupyter-widgets/controls",
      "model_module_version": "1.5.0",
      "model_name": "HBoxModel",
      "state": {
       "children": [
        "IPY_MODEL_4427568f83e5451f82d82c3588ed6502",
        "IPY_MODEL_8a47987257154e99a430dafda0fdf980"
       ],
       "layout": "IPY_MODEL_14da47ac8ea3449eafaab95c9304f817"
      }
     },
     "f175f0fe60574dde9c358c2174d3be88": {
      "model_module": "@jupyter-widgets/controls",
      "model_module_version": "1.5.0",
      "model_name": "HTMLModel",
      "state": {
       "layout": "IPY_MODEL_2c6648cd86b241e1a52985eae504d63d",
       "style": "IPY_MODEL_828b2c3f2dee499d98040fff28703bb9",
       "value": " 150/150 [00:30&lt;00:00,  4.91it/s]"
      }
     },
     "f337e42b55804fff8fac3f041048bb45": {
      "model_module": "@jupyter-widgets/controls",
      "model_module_version": "1.5.0",
      "model_name": "HBoxModel",
      "state": {
       "children": [
        "IPY_MODEL_efc6968fdf4445d69df3234577d55534",
        "IPY_MODEL_872ebdd6f9514b3eabbac027bd5b7033"
       ],
       "layout": "IPY_MODEL_13a32404b2d74828967e468cc3225c6f"
      }
     },
     "f3b85da5cd6b476cbca8d1b2e6cf0530": {
      "model_module": "@jupyter-widgets/controls",
      "model_module_version": "1.5.0",
      "model_name": "HTMLModel",
      "state": {
       "layout": "IPY_MODEL_6737ab092f2647b6b8da77ad968ca0d9",
       "style": "IPY_MODEL_f41a07636dde4b53972881deb57b4787",
       "value": " 1057/6857 [01:37&lt;08:57, 10.80it/s]"
      }
     },
     "f41a07636dde4b53972881deb57b4787": {
      "model_module": "@jupyter-widgets/controls",
      "model_module_version": "1.5.0",
      "model_name": "DescriptionStyleModel",
      "state": {
       "description_width": ""
      }
     },
     "f4bc3ca2209c4b5f980261db1dfd2753": {
      "model_module": "@jupyter-widgets/controls",
      "model_module_version": "1.5.0",
      "model_name": "ProgressStyleModel",
      "state": {
       "description_width": "initial"
      }
     },
     "f838b577f972404887e38c4fe26878c2": {
      "model_module": "@jupyter-widgets/controls",
      "model_module_version": "1.5.0",
      "model_name": "HBoxModel",
      "state": {
       "children": [
        "IPY_MODEL_379393da3ede4b2ca9ec7090067484d7",
        "IPY_MODEL_860f89f29dd84355874553fe27b6cc38"
       ],
       "layout": "IPY_MODEL_163d3174b6074240a628e84c7b2b588b"
      }
     },
     "f84852c4e9604f68bc5adde28314e83e": {
      "model_module": "@jupyter-widgets/base",
      "model_module_version": "1.2.0",
      "model_name": "LayoutModel",
      "state": {}
     },
     "f9feceff74ac4f16bff85cd25d78eccc": {
      "model_module": "@jupyter-widgets/base",
      "model_module_version": "1.2.0",
      "model_name": "LayoutModel",
      "state": {}
     },
     "fa7ca1a6044847c2a82e5b9a62f60bc1": {
      "model_module": "@jupyter-widgets/base",
      "model_module_version": "1.2.0",
      "model_name": "LayoutModel",
      "state": {}
     },
     "faa7909b819249f1bad10605d1af986d": {
      "model_module": "@jupyter-widgets/base",
      "model_module_version": "1.2.0",
      "model_name": "LayoutModel",
      "state": {}
     },
     "faed7d834aa74f548f3e9d47c432eb30": {
      "model_module": "@jupyter-widgets/base",
      "model_module_version": "1.2.0",
      "model_name": "LayoutModel",
      "state": {}
     },
     "fb760762bb104994bffb0f30ecc643ea": {
      "model_module": "@jupyter-widgets/base",
      "model_module_version": "1.2.0",
      "model_name": "LayoutModel",
      "state": {}
     },
     "fd243ed6e9df419a9b183fc13539a4a1": {
      "model_module": "@jupyter-widgets/controls",
      "model_module_version": "1.5.0",
      "model_name": "ProgressStyleModel",
      "state": {
       "description_width": "initial"
      }
     },
     "fd34db3f9eba42178175b9e44f7ef6e9": {
      "model_module": "@jupyter-widgets/controls",
      "model_module_version": "1.5.0",
      "model_name": "HBoxModel",
      "state": {
       "children": [
        "IPY_MODEL_821faaa630964bb790635fad5eea661c",
        "IPY_MODEL_8a35465178854daa91599009997fdad5"
       ],
       "layout": "IPY_MODEL_7dd926a7ca0241488b0bd9f59097058e"
      }
     },
     "fddb163365db4cad98380721837b8359": {
      "model_module": "@jupyter-widgets/controls",
      "model_module_version": "1.5.0",
      "model_name": "DescriptionStyleModel",
      "state": {
       "description_width": ""
      }
     }
    },
    "version_major": 2,
    "version_minor": 0
   }
  }
 },
 "nbformat": 4,
 "nbformat_minor": 4
}
