{
 "cells": [
  {
   "cell_type": "code",
   "execution_count": 10,
   "metadata": {},
   "outputs": [],
   "source": [
    "import matplotlib\n",
    "import matplotlib.pyplot as plt\n",
    "import numpy as np\n",
    "import numpy.linalg\n",
    "import numpy.polynomial\n",
    "import pandas as pd\n",
    "import scipy\n",
    "import scipy.special\n",
    "from sympy.ntheory import continued_fraction\n",
    "import fractions\n",
    "matplotlib.use('Agg')\n",
    "%matplotlib inline"
   ]
  },
  {
   "cell_type": "code",
   "execution_count": 29,
   "metadata": {
    "pycharm": {
     "name": "#%%\n"
    }
   },
   "outputs": [],
   "source": [
    "def print_matrix(_mat):\n",
    "    df = pd.DataFrame(_mat)\n",
    "    print(df.to_string(index=False, header=False))"
   ]
  },
  {
   "cell_type": "markdown",
   "metadata": {},
   "source": [
    "## Plotting the Kohomoto butterfly\n",
    "\n",
    "For some introduction\n",
    "The Kohomoto butterfly is a plot of the spectrum of the discrete schrodinger operator on a quasiperiodic chain.\n",
    "\n",
    "If we look at a function $f:\\mathbb{Z}\\to\\mathbb{R}$ we can define for a given $\\alpha \\in (0,1)$ the operator\n",
    "$H_\\alpha$ which operates on the function $f$ and returns a function of the same kind\n",
    "(which we will mark as $H_\\alpha f$) like so:\n",
    "$$[H_\\alpha f](n) = f(n-1)+f(n+1)+V(n)f(n)$$\n",
    "Where $V(n)$ is a function from the integers to the real numbers which is named the potential.\n",
    "This potential is the quasiperiodic chain.\n",
    "\n",
    "Now for a given $\\alpha$ and a given $v$\n",
    "$$V(n)=   \\begin{cases}  v, \\quad \\text{  if   } \\,\\, 1-\\alpha\\leq z(n) < 1 \\\\ 0,  \\quad \\text{otherwise} \\end{cases}$$\n",
    "This $H_\\alpha$ operator can be thought about as an infinite matrix where the diagonal is $V(n)$ and the superdiagonal\n",
    "and subdiagonal are 1.\n",
    "$$H_\\alpha =\n",
    "\\begin{pmatrix}\n",
    "\\ddots& &  &  &  &  &\\\\\n",
    "&V(-2) & 1 & 0 & 0 & 0&\\\\\n",
    "&1 & V(-1) & 1 & 0 & 0&\\\\\n",
    "&0 & 1 & V(0) & 1 & 0 &\\\\\n",
    "&0 & 0 & 1 & V(1) & 1 &\\\\\n",
    "&0 & 0 & 0 & 1 & V(2) &\\\\\n",
    "& &  &  &  &  & \\ddots\n",
    "\\end{pmatrix}$$\n",
    "The spectrum of $H_\\alpha$ can be thought of as its eigenvalues, the Kohomoto butterfly is a plot of $\\alpha$ against\n",
    "$H_\\alpha$ spectrum.\n",
    "\n",
    "We know how to draw the spectrum for a rational $\\alpha$ and so that is what we will draw.\n",
    "We will explore 2 ways to draw the butterfly.\n",
    "\n",
    "* Using submatrices of $H_\\alpha$\n",
    "* With the Bloch theorem"
   ]
  },
  {
   "cell_type": "markdown",
   "metadata": {},
   "source": [
    "### Plotting the butterfly with submatrices of $H_\\alpha$\n",
    "\n",
    "Let $\\frac{p}{q}$ be the lowest term of the rational $\\alpha$ then we know that $V(n)$ is periodic with a cycle of size q.\n",
    "We will look at a submatrix of size $q\\times q$ of $H_\\alpha$.\n",
    "We'll name the submatrix as $H_q$"
   ]
  },
  {
   "cell_type": "code",
   "execution_count": 30,
   "metadata": {
    "pycharm": {
     "name": "#%%\n"
    }
   },
   "outputs": [],
   "source": [
    "def get_matrix_for_alpha(p, q, v=1):\n",
    "    alpha = fractions.Fraction(p,q)\n",
    "    p = alpha.numerator\n",
    "    q = alpha.denominator\n",
    "    _mat = np.zeros((q,q), dtype=np.int32)\n",
    "    _mat[np.arange(0, q-1), np.arange(1, q)] = 1\n",
    "    _mat[np.arange(1, q), np.arange(0, q-1)] = 1\n",
    "    for i in range(q):\n",
    "        na = np.multiply(alpha,i)\n",
    "        na = na - np.floor(na)\n",
    "        _mat[i][i] = v if na >= 1 - alpha else 0\n",
    "    return _mat"
   ]
  },
  {
   "cell_type": "markdown",
   "metadata": {},
   "source": [
    "Now we will parametrize $H_q$ with $\\theta$ so for example for $q=5$ with some $V(n)$\n",
    "\n",
    "$$H_q(\\theta) =\n",
    "\\begin{pmatrix}\n",
    "v & 1 & 0 & 0 & e^{-i\\theta}\\\\\n",
    "1 & v & 1 & 0 & 0\\\\\n",
    "0 & 1 & 0 & 1 & 0\\\\\n",
    "0 & 0 & 1 & 0 & 1\\\\\n",
    "e^{i\\theta} & 0 & 0 & 1 & v\\\\\n",
    "\\end{pmatrix}$$\n",
    "\n",
    "now for each $\\theta$ we can get the eigenvalues of $H_q(\\theta)$ and plot them against $\\theta$\n",
    "We should get $q$ separate plot lines.\n",
    "\n",
    "Each plot line $g$ defines an interval $[\\min(g), \\max(g)]$ which is an interval in the spectrum of $H_\\alpha$"
   ]
  },
  {
   "cell_type": "code",
   "execution_count": 31,
   "metadata": {
    "pycharm": {
     "name": "#%%\n"
    }
   },
   "outputs": [],
   "source": [
    "def plot_spectrum_lines(_mat, name):\n",
    "    thetas = np.linspace(0, np.pi, 1000)\n",
    "    x = []\n",
    "    y = []\n",
    "    _mat = _mat.copy()\n",
    "    _mat = _mat.astype(np.complex128)\n",
    "    q = _mat.shape[0]\n",
    "\n",
    "    for theta in thetas:\n",
    "        _mat[0][q-1] = np.exp(-1j*theta)\n",
    "        _mat[q-1][0] = np.exp(1j*theta)\n",
    "        x.extend([theta]*q)\n",
    "        y.extend(np.linalg.eigvalsh(_mat))\n",
    "    fig, ax = plt.subplots(figsize=(5,5))\n",
    "    fig.subplots_adjust(.02,.02,.98,.9)\n",
    "    ax.set_title(name, fontdict={'fontsize': 20})\n",
    "    ax.scatter(x, y, s=2)\n",
    "    fig.savefig(f'output/{name}.png', dpi=200)"
   ]
  },
  {
   "cell_type": "markdown",
   "metadata": {},
   "source": [
    "So for $H_{5/7}$ we should get 7 plot lines and thus its spectrum consists of 7 separate intervals."
   ]
  },
  {
   "cell_type": "code",
   "execution_count": 32,
   "metadata": {
    "pycharm": {
     "name": "#%%\n"
    }
   },
   "outputs": [
    {
     "data": {
      "image/png": "[encoded data removed]",
      "text/plain": [
       "<Figure size 360x360 with 1 Axes>"
      ]
     },
     "metadata": {
      "needs_background": "light"
     },
     "output_type": "display_data"
    }
   ],
   "source": [
    "p = 5\n",
    "q = 7\n",
    "frac = fractions.Fraction(p, q)\n",
    "mat = get_matrix_for_alpha(p, q)\n",
    "plot_spectrum_lines(mat, f\"5over7theta\")"
   ]
  },
  {
   "cell_type": "markdown",
   "metadata": {},
   "source": [
    "But it is known that we get $\\min(g), \\max(g)$ at $\\theta=0$ and $\\theta=\\pi$ so we can calculate only them"
   ]
  },
  {
   "cell_type": "code",
   "execution_count": 33,
   "metadata": {
    "pycharm": {
     "name": "#%%\n"
    }
   },
   "outputs": [],
   "source": [
    "def get_ranges(_mat):\n",
    "    _mat_copy = _mat.copy()\n",
    "    _q = _mat.shape[0]\n",
    "    _mat_copy[0][_q-1] = _mat[0][_q-1] + 1\n",
    "    _mat_copy[_q-1][0] = _mat[_q-1][0] + 1\n",
    "    eig_zero = np.linalg.eigvalsh(_mat_copy)\n",
    "    _mat_copy[0][_q-1] = _mat[0][_q-1] - 1\n",
    "    _mat_copy[_q-1][0] = _mat[_q-1][0] - 1\n",
    "    eig_pi = np.linalg.eigvalsh(_mat_copy)\n",
    "\n",
    "    _ranges = []\n",
    "    for eig0, eig1 in zip(eig_zero, eig_pi):\n",
    "        if eig0 < eig1:\n",
    "            _ranges.append((eig0, eig1))\n",
    "        else:\n",
    "            _ranges.append((eig1, eig0))\n",
    "\n",
    "    return _ranges"
   ]
  },
  {
   "cell_type": "code",
   "execution_count": 34,
   "metadata": {
    "pycharm": {
     "name": "#%%\n"
    }
   },
   "outputs": [
    {
     "name": "stdout",
     "output_type": "stream",
     "text": [
      " 0  1\n",
      " 1  1\n",
      "[array([-1.56155281,  0.        ]), array([1.        , 2.56155281])]\n",
      " 0  1  0  0  0  0  0\n",
      " 1  1  1  0  0  0  0\n",
      " 0  1  1  1  0  0  0\n",
      " 0  0  1  0  1  0  0\n",
      " 0  0  0  1  1  1  0\n",
      " 0  0  0  0  1  1  1\n",
      " 0  0  0  0  0  1  1\n",
      "[array([-1.37720285, -1.2469796 ]), array([-1.14386443, -0.87938524]), array([-0.27389055,  0.14155805]), array([0.44504187, 1.        ]), array([1.34729636, 1.80193774]), array([2.21830965, 2.53208889]), array([2.65109341, 2.78399673])]\n"
     ]
    }
   ],
   "source": [
    "mat = get_matrix_for_alpha(1, 2)\n",
    "print_matrix(mat)\n",
    "print(get_ranges(mat))\n",
    "mat = get_matrix_for_alpha(5, 7)\n",
    "print_matrix(mat)\n",
    "print(get_ranges(mat))"
   ]
  },
  {
   "cell_type": "markdown",
   "source": [
    "Now to plot the entire butterfly we'll just choose a list of fractions for each fraction $\\alpha$\n",
    "calculate the spectrum of $H_\\alpha$ and plot it as lines at $y=\\alpha$\n",
    "\n",
    "For choosing the fractions we choose a list of denominators $q$ and for each we go over the fractions\n",
    "$\\frac{1}{q}$ to $\\frac{q-1}{q}$.\n",
    "We choose the denominators as the primes from $11$ to $n$ so we'll get unique fractions and\n",
    "$2^33^3,5^3,7^2$ to get more of the simpler fractions such as $\\frac{1}{2}, \\frac{2}{3}, \\frac{1}{6}$ etc..."
   ],
   "metadata": {
    "collapsed": false
   }
  },
  {
   "cell_type": "code",
   "execution_count": 8,
   "metadata": {
    "pycharm": {
     "name": "#%%\n"
    }
   },
   "outputs": [],
   "source": [
    "def primesfrom2to(n):\n",
    "    \"\"\" Input n>=6, Returns a array of primes, 2 <= p < n \"\"\"\n",
    "    sieve = numpy.ones(n//3 + (n%6==2), dtype=numpy.bool)\n",
    "    for i in range(1,int(n**0.5)//3+1):\n",
    "        if sieve[i]:\n",
    "            k=3*i+1|1\n",
    "            sieve[       k*k//3     ::2*k] = False\n",
    "            sieve[k*(k-2*(i&1)+4)//3::2*k] = False\n",
    "    return numpy.r_[2,3,((3*numpy.nonzero(sieve)[0][1:]+1)|1)]"
   ]
  },
  {
   "cell_type": "markdown",
   "source": [
    "> **WARNING**: This is not super efficient so it might take some time"
   ],
   "metadata": {
    "collapsed": false,
    "pycharm": {
     "name": "#%% md\n"
    }
   }
  },
  {
   "cell_type": "code",
   "execution_count": 9,
   "metadata": {
    "pycharm": {
     "name": "#%%\n"
    }
   },
   "outputs": [
    {
     "name": "stdout",
     "output_type": "stream",
     "text": [
      "[ 11  13  17  19  23  29  31  37  41  43  47  53  59  61  67  71  73  79\n",
      "  83  89  97 101 103 107 109 113 127 131 137 139 149 125  49 216]\n"
     ]
    },
    {
     "ename": "KeyboardInterrupt",
     "evalue": "",
     "output_type": "error",
     "traceback": [
      "\u001B[1;31m---------------------------------------------------------------------------\u001B[0m",
      "\u001B[1;31mKeyboardInterrupt\u001B[0m                         Traceback (most recent call last)",
      "\u001B[1;32m<ipython-input-9-85d9213549a7>\u001B[0m in \u001B[0;36m<module>\u001B[1;34m\u001B[0m\n\u001B[0;32m     12\u001B[0m         \u001B[0mmat\u001B[0m \u001B[1;33m=\u001B[0m \u001B[0mget_matrix_for_alpha\u001B[0m\u001B[1;33m(\u001B[0m\u001B[0mp\u001B[0m\u001B[1;33m,\u001B[0m \u001B[0mq\u001B[0m\u001B[1;33m)\u001B[0m\u001B[1;33m\u001B[0m\u001B[1;33m\u001B[0m\u001B[0m\n\u001B[0;32m     13\u001B[0m         \u001B[1;32mfor\u001B[0m \u001B[0mx1\u001B[0m\u001B[1;33m,\u001B[0m \u001B[0mx2\u001B[0m \u001B[1;32min\u001B[0m \u001B[0mget_ranges\u001B[0m\u001B[1;33m(\u001B[0m\u001B[0mmat\u001B[0m\u001B[1;33m)\u001B[0m\u001B[1;33m:\u001B[0m\u001B[1;33m\u001B[0m\u001B[1;33m\u001B[0m\u001B[0m\n\u001B[1;32m---> 14\u001B[1;33m             \u001B[0max\u001B[0m\u001B[1;33m.\u001B[0m\u001B[0mplot\u001B[0m\u001B[1;33m(\u001B[0m\u001B[1;33m[\u001B[0m\u001B[0mx1\u001B[0m\u001B[1;33m,\u001B[0m \u001B[0mx2\u001B[0m\u001B[1;33m]\u001B[0m\u001B[1;33m,\u001B[0m \u001B[1;33m[\u001B[0m\u001B[0mfrac\u001B[0m\u001B[1;33m,\u001B[0m \u001B[0mfrac\u001B[0m\u001B[1;33m]\u001B[0m\u001B[1;33m,\u001B[0m \u001B[1;34m'k-'\u001B[0m\u001B[1;33m,\u001B[0m \u001B[0mlinewidth\u001B[0m\u001B[1;33m=\u001B[0m\u001B[1;36m0.1\u001B[0m\u001B[1;33m)\u001B[0m\u001B[1;33m\u001B[0m\u001B[1;33m\u001B[0m\u001B[0m\n\u001B[0m\u001B[0;32m     15\u001B[0m \u001B[1;33m\u001B[0m\u001B[0m\n\u001B[0;32m     16\u001B[0m \u001B[0mfig\u001B[0m\u001B[1;33m.\u001B[0m\u001B[0msavefig\u001B[0m\u001B[1;33m(\u001B[0m\u001B[1;34mf'output/test_{n}_2.png'\u001B[0m\u001B[1;33m,\u001B[0m \u001B[0mdpi\u001B[0m\u001B[1;33m=\u001B[0m\u001B[1;36m400\u001B[0m\u001B[1;33m)\u001B[0m\u001B[1;33m\u001B[0m\u001B[1;33m\u001B[0m\u001B[0m\n",
      "\u001B[1;32m~\\AppData\\Local\\Packages\\PythonSoftwareFoundation.Python.3.8_qbz5n2kfra8p0\\LocalCache\\local-packages\\Python38\\site-packages\\matplotlib\\axes\\_axes.py\u001B[0m in \u001B[0;36mplot\u001B[1;34m(self, scalex, scaley, data, *args, **kwargs)\u001B[0m\n\u001B[0;32m   1743\u001B[0m         \u001B[0mlines\u001B[0m \u001B[1;33m=\u001B[0m \u001B[1;33m[\u001B[0m\u001B[1;33m*\u001B[0m\u001B[0mself\u001B[0m\u001B[1;33m.\u001B[0m\u001B[0m_get_lines\u001B[0m\u001B[1;33m(\u001B[0m\u001B[1;33m*\u001B[0m\u001B[0margs\u001B[0m\u001B[1;33m,\u001B[0m \u001B[0mdata\u001B[0m\u001B[1;33m=\u001B[0m\u001B[0mdata\u001B[0m\u001B[1;33m,\u001B[0m \u001B[1;33m**\u001B[0m\u001B[0mkwargs\u001B[0m\u001B[1;33m)\u001B[0m\u001B[1;33m]\u001B[0m\u001B[1;33m\u001B[0m\u001B[1;33m\u001B[0m\u001B[0m\n\u001B[0;32m   1744\u001B[0m         \u001B[1;32mfor\u001B[0m \u001B[0mline\u001B[0m \u001B[1;32min\u001B[0m \u001B[0mlines\u001B[0m\u001B[1;33m:\u001B[0m\u001B[1;33m\u001B[0m\u001B[1;33m\u001B[0m\u001B[0m\n\u001B[1;32m-> 1745\u001B[1;33m             \u001B[0mself\u001B[0m\u001B[1;33m.\u001B[0m\u001B[0madd_line\u001B[0m\u001B[1;33m(\u001B[0m\u001B[0mline\u001B[0m\u001B[1;33m)\u001B[0m\u001B[1;33m\u001B[0m\u001B[1;33m\u001B[0m\u001B[0m\n\u001B[0m\u001B[0;32m   1746\u001B[0m         \u001B[0mself\u001B[0m\u001B[1;33m.\u001B[0m\u001B[0m_request_autoscale_view\u001B[0m\u001B[1;33m(\u001B[0m\u001B[0mscalex\u001B[0m\u001B[1;33m=\u001B[0m\u001B[0mscalex\u001B[0m\u001B[1;33m,\u001B[0m \u001B[0mscaley\u001B[0m\u001B[1;33m=\u001B[0m\u001B[0mscaley\u001B[0m\u001B[1;33m)\u001B[0m\u001B[1;33m\u001B[0m\u001B[1;33m\u001B[0m\u001B[0m\n\u001B[0;32m   1747\u001B[0m         \u001B[1;32mreturn\u001B[0m \u001B[0mlines\u001B[0m\u001B[1;33m\u001B[0m\u001B[1;33m\u001B[0m\u001B[0m\n",
      "\u001B[1;32m~\\AppData\\Local\\Packages\\PythonSoftwareFoundation.Python.3.8_qbz5n2kfra8p0\\LocalCache\\local-packages\\Python38\\site-packages\\matplotlib\\axes\\_base.py\u001B[0m in \u001B[0;36madd_line\u001B[1;34m(self, line)\u001B[0m\n\u001B[0;32m   1967\u001B[0m             \u001B[0mline\u001B[0m\u001B[1;33m.\u001B[0m\u001B[0mset_clip_path\u001B[0m\u001B[1;33m(\u001B[0m\u001B[0mself\u001B[0m\u001B[1;33m.\u001B[0m\u001B[0mpatch\u001B[0m\u001B[1;33m)\u001B[0m\u001B[1;33m\u001B[0m\u001B[1;33m\u001B[0m\u001B[0m\n\u001B[0;32m   1968\u001B[0m \u001B[1;33m\u001B[0m\u001B[0m\n\u001B[1;32m-> 1969\u001B[1;33m         \u001B[0mself\u001B[0m\u001B[1;33m.\u001B[0m\u001B[0m_update_line_limits\u001B[0m\u001B[1;33m(\u001B[0m\u001B[0mline\u001B[0m\u001B[1;33m)\u001B[0m\u001B[1;33m\u001B[0m\u001B[1;33m\u001B[0m\u001B[0m\n\u001B[0m\u001B[0;32m   1970\u001B[0m         \u001B[1;32mif\u001B[0m \u001B[1;32mnot\u001B[0m \u001B[0mline\u001B[0m\u001B[1;33m.\u001B[0m\u001B[0mget_label\u001B[0m\u001B[1;33m(\u001B[0m\u001B[1;33m)\u001B[0m\u001B[1;33m:\u001B[0m\u001B[1;33m\u001B[0m\u001B[1;33m\u001B[0m\u001B[0m\n\u001B[0;32m   1971\u001B[0m             \u001B[0mline\u001B[0m\u001B[1;33m.\u001B[0m\u001B[0mset_label\u001B[0m\u001B[1;33m(\u001B[0m\u001B[1;34m'_line%d'\u001B[0m \u001B[1;33m%\u001B[0m \u001B[0mlen\u001B[0m\u001B[1;33m(\u001B[0m\u001B[0mself\u001B[0m\u001B[1;33m.\u001B[0m\u001B[0mlines\u001B[0m\u001B[1;33m)\u001B[0m\u001B[1;33m)\u001B[0m\u001B[1;33m\u001B[0m\u001B[1;33m\u001B[0m\u001B[0m\n",
      "\u001B[1;32m~\\AppData\\Local\\Packages\\PythonSoftwareFoundation.Python.3.8_qbz5n2kfra8p0\\LocalCache\\local-packages\\Python38\\site-packages\\matplotlib\\axes\\_base.py\u001B[0m in \u001B[0;36m_update_line_limits\u001B[1;34m(self, line)\u001B[0m\n\u001B[0;32m   1989\u001B[0m         \u001B[0mFigures\u001B[0m \u001B[0mout\u001B[0m \u001B[0mthe\u001B[0m \u001B[0mdata\u001B[0m \u001B[0mlimit\u001B[0m \u001B[0mof\u001B[0m \u001B[0mthe\u001B[0m \u001B[0mgiven\u001B[0m \u001B[0mline\u001B[0m\u001B[1;33m,\u001B[0m \u001B[0mupdating\u001B[0m \u001B[0mself\u001B[0m\u001B[1;33m.\u001B[0m\u001B[0mdataLim\u001B[0m\u001B[1;33m.\u001B[0m\u001B[1;33m\u001B[0m\u001B[1;33m\u001B[0m\u001B[0m\n\u001B[0;32m   1990\u001B[0m         \"\"\"\n\u001B[1;32m-> 1991\u001B[1;33m         \u001B[0mpath\u001B[0m \u001B[1;33m=\u001B[0m \u001B[0mline\u001B[0m\u001B[1;33m.\u001B[0m\u001B[0mget_path\u001B[0m\u001B[1;33m(\u001B[0m\u001B[1;33m)\u001B[0m\u001B[1;33m\u001B[0m\u001B[1;33m\u001B[0m\u001B[0m\n\u001B[0m\u001B[0;32m   1992\u001B[0m         \u001B[1;32mif\u001B[0m \u001B[0mpath\u001B[0m\u001B[1;33m.\u001B[0m\u001B[0mvertices\u001B[0m\u001B[1;33m.\u001B[0m\u001B[0msize\u001B[0m \u001B[1;33m==\u001B[0m \u001B[1;36m0\u001B[0m\u001B[1;33m:\u001B[0m\u001B[1;33m\u001B[0m\u001B[1;33m\u001B[0m\u001B[0m\n\u001B[0;32m   1993\u001B[0m             \u001B[1;32mreturn\u001B[0m\u001B[1;33m\u001B[0m\u001B[1;33m\u001B[0m\u001B[0m\n",
      "\u001B[1;32m~\\AppData\\Local\\Packages\\PythonSoftwareFoundation.Python.3.8_qbz5n2kfra8p0\\LocalCache\\local-packages\\Python38\\site-packages\\matplotlib\\lines.py\u001B[0m in \u001B[0;36mget_path\u001B[1;34m(self)\u001B[0m\n\u001B[0;32m   1009\u001B[0m         \"\"\"\n\u001B[0;32m   1010\u001B[0m         \u001B[1;32mif\u001B[0m \u001B[0mself\u001B[0m\u001B[1;33m.\u001B[0m\u001B[0m_invalidy\u001B[0m \u001B[1;32mor\u001B[0m \u001B[0mself\u001B[0m\u001B[1;33m.\u001B[0m\u001B[0m_invalidx\u001B[0m\u001B[1;33m:\u001B[0m\u001B[1;33m\u001B[0m\u001B[1;33m\u001B[0m\u001B[0m\n\u001B[1;32m-> 1011\u001B[1;33m             \u001B[0mself\u001B[0m\u001B[1;33m.\u001B[0m\u001B[0mrecache\u001B[0m\u001B[1;33m(\u001B[0m\u001B[1;33m)\u001B[0m\u001B[1;33m\u001B[0m\u001B[1;33m\u001B[0m\u001B[0m\n\u001B[0m\u001B[0;32m   1012\u001B[0m         \u001B[1;32mreturn\u001B[0m \u001B[0mself\u001B[0m\u001B[1;33m.\u001B[0m\u001B[0m_path\u001B[0m\u001B[1;33m\u001B[0m\u001B[1;33m\u001B[0m\u001B[0m\n\u001B[0;32m   1013\u001B[0m \u001B[1;33m\u001B[0m\u001B[0m\n",
      "\u001B[1;32m~\\AppData\\Local\\Packages\\PythonSoftwareFoundation.Python.3.8_qbz5n2kfra8p0\\LocalCache\\local-packages\\Python38\\site-packages\\matplotlib\\lines.py\u001B[0m in \u001B[0;36mrecache\u001B[1;34m(self, always)\u001B[0m\n\u001B[0;32m    684\u001B[0m             \u001B[0minterpolation_steps\u001B[0m \u001B[1;33m=\u001B[0m \u001B[1;36m1\u001B[0m\u001B[1;33m\u001B[0m\u001B[1;33m\u001B[0m\u001B[0m\n\u001B[0;32m    685\u001B[0m         \u001B[0mxy\u001B[0m \u001B[1;33m=\u001B[0m \u001B[0mSTEP_LOOKUP_MAP\u001B[0m\u001B[1;33m[\u001B[0m\u001B[0mself\u001B[0m\u001B[1;33m.\u001B[0m\u001B[0m_drawstyle\u001B[0m\u001B[1;33m]\u001B[0m\u001B[1;33m(\u001B[0m\u001B[1;33m*\u001B[0m\u001B[0mself\u001B[0m\u001B[1;33m.\u001B[0m\u001B[0m_xy\u001B[0m\u001B[1;33m.\u001B[0m\u001B[0mT\u001B[0m\u001B[1;33m)\u001B[0m\u001B[1;33m\u001B[0m\u001B[1;33m\u001B[0m\u001B[0m\n\u001B[1;32m--> 686\u001B[1;33m         self._path = Path(np.asarray(xy).T,\n\u001B[0m\u001B[0;32m    687\u001B[0m                           _interpolation_steps=interpolation_steps)\n\u001B[0;32m    688\u001B[0m         \u001B[0mself\u001B[0m\u001B[1;33m.\u001B[0m\u001B[0m_transformed_path\u001B[0m \u001B[1;33m=\u001B[0m \u001B[1;32mNone\u001B[0m\u001B[1;33m\u001B[0m\u001B[1;33m\u001B[0m\u001B[0m\n",
      "\u001B[1;32m~\\AppData\\Local\\Packages\\PythonSoftwareFoundation.Python.3.8_qbz5n2kfra8p0\\LocalCache\\local-packages\\Python38\\site-packages\\numpy\\core\\_asarray.py\u001B[0m in \u001B[0;36masarray\u001B[1;34m(a, dtype, order)\u001B[0m\n\u001B[0;32m     81\u001B[0m \u001B[1;33m\u001B[0m\u001B[0m\n\u001B[0;32m     82\u001B[0m     \"\"\"\n\u001B[1;32m---> 83\u001B[1;33m     \u001B[1;32mreturn\u001B[0m \u001B[0marray\u001B[0m\u001B[1;33m(\u001B[0m\u001B[0ma\u001B[0m\u001B[1;33m,\u001B[0m \u001B[0mdtype\u001B[0m\u001B[1;33m,\u001B[0m \u001B[0mcopy\u001B[0m\u001B[1;33m=\u001B[0m\u001B[1;32mFalse\u001B[0m\u001B[1;33m,\u001B[0m \u001B[0morder\u001B[0m\u001B[1;33m=\u001B[0m\u001B[0morder\u001B[0m\u001B[1;33m)\u001B[0m\u001B[1;33m\u001B[0m\u001B[1;33m\u001B[0m\u001B[0m\n\u001B[0m\u001B[0;32m     84\u001B[0m \u001B[1;33m\u001B[0m\u001B[0m\n\u001B[0;32m     85\u001B[0m \u001B[1;33m\u001B[0m\u001B[0m\n",
      "\u001B[1;31mKeyboardInterrupt\u001B[0m: "
     ]
    },
    {
     "data": {
      "image/png": "[encoded data removed]",
      "text/plain": [
       "<Figure size 720x720 with 1 Axes>"
      ]
     },
     "metadata": {
      "needs_background": "light"
     },
     "output_type": "display_data"
    }
   ],
   "source": [
    "x = []\n",
    "y = []\n",
    "fig, ax = plt.subplots(figsize=(10,10))\n",
    "ax.set_yticks(np.linspace(0, 1, 21))\n",
    "n = 150\n",
    "primes = primesfrom2to(n)[4:]\n",
    "primes = np.append(primes, (125, 49, 216))\n",
    "print(primes)\n",
    "for q in primes:\n",
    "    for p in range(1, q):\n",
    "        frac = fractions.Fraction(p, q)\n",
    "        mat = get_matrix_for_alpha(p, q)\n",
    "        for x1, x2 in get_ranges(mat):\n",
    "            ax.plot([x1, x2], [frac, frac], 'k-', linewidth=0.1)\n",
    "\n",
    "fig.savefig(f'output/test_{n}_2.png', dpi=400)\n",
    "# fig.savefig(f'output/test_{n}.svg', format='svg')\n",
    "# fig.savefig(f'output/test_{n}.eps', format='eps')"
   ]
  },
  {
   "cell_type": "code",
   "execution_count": null,
   "outputs": [],
   "source": [],
   "metadata": {
    "collapsed": false,
    "pycharm": {
     "name": "#%%\n"
    }
   }
  },
  {
   "cell_type": "markdown",
   "source": [
    "### Plotting the butterfly with the Bloch theorem"
   ],
   "metadata": {
    "collapsed": false
   }
  },
  {
   "cell_type": "code",
   "execution_count": null,
   "metadata": {},
   "outputs": [],
   "source": [
    "# den = 10000\n",
    "# values_space = np.linspace(0,1, 10000)"
   ]
  },
  {
   "cell_type": "code",
   "execution_count": null,
   "metadata": {},
   "outputs": [],
   "source": [
    "# fracs = [fractions.Fraction(i,den) for i in range(1, den)]\n",
    "# crs = [continued_fraction(frac)[1:] for frac in fracs]\n",
    "# zipped = list(zip(fracs, crs))\n",
    "# # for frac, cr in zipped:\n",
    "# #     print(f'{frac}: {cr}')"
   ]
  },
  {
   "cell_type": "code",
   "execution_count": null,
   "metadata": {
    "pycharm": {
     "name": "#%%\n"
    }
   },
   "outputs": [],
   "source": [
    "# def calculate_trace(cr, E):\n",
    "#     E = np.float(E)\n",
    "#     x_prev = E\n",
    "#     y_prev = 2\n",
    "#     z_prev = E-1\n",
    "#     for a in cr:\n",
    "#         a = np.longlong(a)\n",
    "#         S = scipy.special.eval_chebyu((a, a-1, a-2), (x_prev,))\n",
    "#\n",
    "#         x = np.multiply(z_prev, S[1])-np.multiply(y_prev, S[2])\n",
    "#         y = x_prev\n",
    "#         z = np.multiply(z_prev, S[0])-np.multiply(y_prev, S[1])\n",
    "#         x_prev = x\n",
    "#         y_prev = y\n",
    "#         z_prev = z\n",
    "#     return x"
   ]
  },
  {
   "cell_type": "code",
   "execution_count": null,
   "metadata": {},
   "outputs": [],
   "source": [
    "# values_x = []\n",
    "# values_y = []\n",
    "# for E in values_space:\n",
    "#     for frac, cr in zipped:\n",
    "#         t = calculate_trace(cr, E)\n",
    "#         if np.abs(t) < 2.1:\n",
    "#             values_x.append(E)\n",
    "#             values_y.append(frac)"
   ]
  },
  {
   "cell_type": "code",
   "execution_count": null,
   "metadata": {},
   "outputs": [],
   "source": [
    "# print(f'{len(values_x)} out of {den * len(values_space)}, {len(values_x)/(den * len(values_space))}')"
   ]
  },
  {
   "cell_type": "code",
   "execution_count": null,
   "metadata": {},
   "outputs": [],
   "source": [
    "# plt.scatter(values_x, values_y, 0.01)\n"
   ]
  },
  {
   "cell_type": "code",
   "execution_count": null,
   "metadata": {
    "pycharm": {
     "name": "#%%\n"
    }
   },
   "outputs": [],
   "source": [
    "# count = 100000\n",
    "# x = np.linspace(0, 1, count)\n",
    "# y = np.zeros(count)\n",
    "# cr = continued_fraction(fractions.Fraction(1, 2))[1:]\n",
    "# print(cr)\n",
    "# for i, E in enumerate(x):\n",
    "#     t = calculate_trace(cr, E)\n",
    "#     if np.abs(t) < 2.2:\n",
    "#         y[i] = 1\n",
    "#     else:\n",
    "#         y[i] = 0\n",
    "# plt.plot(x, y, 'o')\n"
   ]
  }
 ],
 "metadata": {
  "kernelspec": {
   "display_name": "Python 3",
   "language": "python",
   "name": "python3"
  },
  "language_info": {
   "codemirror_mode": {
    "name": "ipython",
    "version": 3
   },
   "file_extension": ".py",
   "mimetype": "text/x-python",
   "name": "python",
   "nbconvert_exporter": "python",
   "pygments_lexer": "ipython3",
   "version": "3.8.6rc1"
  }
 },
 "nbformat": 4,
 "nbformat_minor": 4
}