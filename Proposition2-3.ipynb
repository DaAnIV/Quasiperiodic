{
 "cells": [
  {
   "cell_type": "code",
   "execution_count": 1,
   "metadata": {},
   "outputs": [],
   "source": [
    "import numpy as np\n",
    "import numpy.linalg"
   ]
  },
  {
   "cell_type": "code",
   "execution_count": 18,
   "metadata": {},
   "outputs": [
    {
     "name": "stdout",
     "output_type": "stream",
     "text": [
      "V: 0.75, E: 0.25\n",
      "[[ 1.   -0.75]\n",
      " [ 0.    1.  ]]\n",
      "[[ 0.25 -1.  ]\n",
      " [ 1.    0.  ]]\n"
     ]
    }
   ],
   "source": [
    "V = 0.75\n",
    "E = 0.25\n",
    "\n",
    "M__1=np.matrix([[1,-V], [0, 1]])\n",
    "M_0=np.matrix([[E, -1], [1, 0]])\n",
    "print(f'V: {V}, E: {E}')\n",
    "print(M__1)\n",
    "print(M_0)"
   ]
  },
  {
   "cell_type": "code",
   "execution_count": 21,
   "metadata": {},
   "outputs": [],
   "source": [
    "def commutator(A, B):\n",
    "    return A*B-B*A"
   ]
  },
  {
   "cell_type": "code",
   "execution_count": 49,
   "metadata": {},
   "outputs": [],
   "source": [
    "M_1=M__1*np.linalg.matrix_power(M_0, 3)"
   ]
  },
  {
   "cell_type": "code",
   "execution_count": 50,
   "metadata": {},
   "outputs": [
    {
     "name": "stdout",
     "output_type": "stream",
     "text": [
      "[[0.5625 0.    ]\n",
      " [0.     0.5625]] 0.5625\n"
     ]
    }
   ],
   "source": [
    "A = np.linalg.matrix_power(commutator(M_1, M_0*np.linalg.matrix_power(M_1, 4)), 2)\n",
    "print(A, np.power(V,2))"
   ]
  },
  {
   "cell_type": "code",
   "execution_count": 46,
   "metadata": {},
   "outputs": [
    {
     "data": {
      "text/plain": [
       "matrix([[0.5625, 0.    ],\n",
       "        [0.    , 0.5625]])"
      ]
     },
     "execution_count": 46,
     "metadata": {},
     "output_type": "execute_result"
    }
   ],
   "source": [
    "np.asmatrix(A)"
   ]
  }
 ],
 "metadata": {
  "kernelspec": {
   "display_name": "Python 3",
   "language": "python",
   "name": "python3"
  },
  "language_info": {
   "codemirror_mode": {
    "name": "ipython",
    "version": 3
   },
   "file_extension": ".py",
   "mimetype": "text/x-python",
   "name": "python",
   "nbconvert_exporter": "python",
   "pygments_lexer": "ipython3",
   "version": "3.8.5"
  }
 },
 "nbformat": 4,
 "nbformat_minor": 4
}
